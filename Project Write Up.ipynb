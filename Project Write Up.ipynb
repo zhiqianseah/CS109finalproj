{
 "cells": [
  {
   "cell_type": "markdown",
   "metadata": {},
   "source": [
    "#Reception of Films from Locations and Genres"
   ]
  },
  {
   "cell_type": "markdown",
   "metadata": {},
   "source": [
    "##Table of Contents\n",
    "* [Reception of Films from Locations and Genres](#Reception-of-Films-from-Locations-and-Genres)\n",
    "    * [1. Overview](#1.-Overview)\n",
    "\t* [2. Data Acquisition & Management](#2.-Data-Acquisition-&-Management)\n",
    "        * [2.1. Approach 1](#2.1.-Approach-1)\n",
    "        * [2.2. Approach 2](#2.2.-Approach-2)\n",
    "        * [2.3. Implementing Approach 1](#2.3.-Implementing Approach-1)\n",
    "    * [3. Analyses](#3.-Analyses)\n",
    "        * [3.1. Summary Statistics of Data Set](#3.1.-Summary-Statistics-of-Data-Set)\n",
    "        * [3.2. Linear Regression](#3.2.-Linear-Regression)\n",
    "        * [3.3. Principal Component Analysis](#3.3.-Principal-Component-Analysis)\n",
    "        * [3.4. Train-Test Splitting](#3.4.-Train-Test-Splitting)\n",
    "        * [3.5. Baseline Accuracy](#3.5.-Baseline-Accuracy)\n",
    "        * [3.6. Logistic Regression](#3.6.-Logistic-Regression)\n",
    "        * [3.7. K-Nearest Neighbours](#3.7.-K-Nearest-Neighbours)\n",
    "    * [4. Comparison](#4.-Comparison)\n"
   ]
  },
  {
   "cell_type": "code",
   "execution_count": 1,
   "metadata": {
    "collapsed": true
   },
   "outputs": [],
   "source": [
    "%matplotlib inline\n",
    "import numpy as np\n",
    "import scipy as sp\n",
    "import matplotlib as mpl\n",
    "import matplotlib.cm as cm\n",
    "import matplotlib.pyplot as plt\n",
    "import pandas as pd\n",
    "import statsmodels.api as sm\n",
    "import time\n",
    "import json\n",
    "pd.set_option('display.width', 500)\n",
    "pd.set_option('display.max_columns', 100)\n",
    "pd.set_option('display.notebook_repr_html', True)\n",
    "import seaborn as sns\n",
    "sns.set_style(\"whitegrid\")\n",
    "sns.set_context(\"poster\")\n",
    "import random"
   ]
  },
  {
   "cell_type": "markdown",
   "metadata": {},
   "source": [
    "#1. Overview"
   ]
  },
  {
   "cell_type": "markdown",
   "metadata": {},
   "source": [
    "In this project, we study the relationship between film reception and other factors like filming locations and genres. Data will be scraped from [IMDB](http://www.imdb.com). Linear regression will be used to study the effects of each feature (in this case, locations and genres) on user ratings. After which, Principal Component Analysis (PCA) will be used to reduce the dimension of our data set. Then, logistic regression and k-Nearest Neighbours(kNN) will be used for classification in order to predict whether a film is well received. The accuracy of both estimators will be compared. Visualisation of results will be done via graphical plots and Tableau."
   ]
  },
  {
   "cell_type": "markdown",
   "metadata": {},
   "source": [
    "# 2. Data Acquisition & Management"
   ]
  },
  {
   "cell_type": "markdown",
   "metadata": {},
   "source": [
    "We first scrape the data from IMDB which gives us information about each film title such as  the budget, country, critic ratings, duration, genre, gross earnings, language, filming locations, name, opening weekend earnings, release dates, url, user ratings, user ratings count and year. The code for web scraping can be found in a separate notebook titled, \"Data scraping\". Though we planned to work with a data set of 12,000 titles initially, a preliminary test run of PCA with around 18,000 features of locations and genres, indicated that it was very computationally expensive. Instead, we reduce the size of our data to 10,000 titles. To do so, we scraped IMDB for all film titles from 2009 to 2014. Titles without user ratings, film locations and genres are then removed from our data set. Subsequently, we pick 10,000 titles randomly from the remaining pool of titles.\n",
    "\n",
    "Next, we convert user ratings to a binary feature where \"1\" indicates that the film was well-received while \"0\" indicates otherwise. Initially, the threshold rating for determining if a film is well-received was not \"5\" nor was it a randomly chosen number. Instead, we looked at the spread of user ratings across our data. Films with ratings in the top 50% were assigned \"1\" while films in the bottom 50% were assigned \"0\". Though such conversion of user ratings might raise problems, the intention here is to have a balanced number for both sides; additionally, this technique can be applied to larger data sets where the threshold is determined by the data in hand. However, after some considerations, it was decided that \"5\" will be taken as the threshold since, intuitively, \"5\" is the boundary most people use when deliberating whether or not they like a film.\n",
    "\n",
    "For locations, substantial data cleaning is required. This is largely due to film locations being user-contributed. Hence, we faced problems like spelling mistakes, multiple entries of similar details or details with trivial differences that were irrelevant to our study. For example, some locations are specific to the street while others merely state the country. In cleaning up the feature \"locations\", we considered two approaches which are elaborated below."
   ]
  },
  {
   "cell_type": "markdown",
   "metadata": {},
   "source": [
    "#### 2.1. Approach 1"
   ]
  },
  {
   "cell_type": "markdown",
   "metadata": {},
   "source": [
    "We split the entries of \"locations\" for each film by the commas into phrases. This is because most entries take the form - (specific location),(city),(country) - with various titles having anomalous and repeated entries. Then, we restrict \"locations\" to cities and countries. Using a list of cities and countries across the world, that we acquired online (\"countriesToCities.json\"), we compared the phrases in our data to the locations in the list. Phrases that appear in the list of cities and countries are kept while all other location details are discarded. While this resulted in some problems, one particularly interesting issue was that many countries had names shared by cities. \n",
    "\n",
    "For example, China turned out to be the name of a city in Texas as well. As a result, if a film was filmed in China, Texas, it would be recorded as being filmed in the country China as well. However, given that these cities with similar names to countries are not especially known widely, we assume that such occurrences are rare anomalies. In addition, we chose to include countries so as to mitigate this problem since our hypothetical film will be recorded as being filmed in China and USA. As such, it is true that the film was filmed in USA but merely a rare anomaly that it is erroneously recorded to be filmed in China too.\n",
    "\n",
    "While Approach 2 below was also considered, Approach 1 was taken instead due to the complexity of the former.\n"
   ]
  },
  {
   "cell_type": "markdown",
   "metadata": {},
   "source": [
    "#### 2.2. Approach 2"
   ]
  },
  {
   "cell_type": "markdown",
   "metadata": {},
   "source": [
    "Here, we split the entries of \"locations\" by commas and treat each unique phrase as a distinct location. For example, suppose we have \"Newbury Street, Boston, USA, Boston, USA\". We split them into \"Newbury Street\", \"Boston\" and \"USA\". From a data set of around 18,000 titles, we end up with around 19,000 distinct locations as features. Then, we rely on PCA to reduce the number of features into principal components.\n",
    "\n",
    "However, preliminary tests concluded that the computational demands of this approach was too immense. The number of components to be reduced to by PCA was intended to explain 90% of the variation in our features. While it was possible to find that number with our data set, the first few test runs simply took too long, prompting us to turn to the first approach instead."
   ]
  },
  {
   "cell_type": "markdown",
   "metadata": {},
   "source": [
    "#### 2.3 Implementing Approach 1"
   ]
  },
  {
   "cell_type": "markdown",
   "metadata": {},
   "source": [
    "First, we read in a CSV file which contains the data that we have scraped. Then, we compare the data with the list of cities and countries to clean up the data."
   ]
  },
  {
   "cell_type": "code",
   "execution_count": 2,
   "metadata": {
    "collapsed": true
   },
   "outputs": [],
   "source": [
    "new_df_input = pd.read_csv('df_boolean_temp2.csv',sep=',',encoding='utf-8')"
   ]
  },
  {
   "cell_type": "code",
   "execution_count": 3,
   "metadata": {
    "collapsed": false
   },
   "outputs": [
    {
     "data": {
      "text/html": [
       "<div>\n",
       "<table border=\"1\" class=\"dataframe\">\n",
       "  <thead>\n",
       "    <tr style=\"text-align: right;\">\n",
       "      <th></th>\n",
       "      <th>index</th>\n",
       "      <th>budget</th>\n",
       "      <th>contentRating</th>\n",
       "      <th>country</th>\n",
       "      <th>critic_ratings</th>\n",
       "      <th>duration</th>\n",
       "      <th>genre</th>\n",
       "      <th>gross</th>\n",
       "      <th>language</th>\n",
       "      <th>location_page</th>\n",
       "      <th>name</th>\n",
       "      <th>opening_weekend</th>\n",
       "      <th>release_dates</th>\n",
       "      <th>url</th>\n",
       "      <th>user_ratings</th>\n",
       "      <th>user_ratings_count</th>\n",
       "      <th>year</th>\n",
       "      <th>separated_places</th>\n",
       "      <th>separated_cities</th>\n",
       "    </tr>\n",
       "  </thead>\n",
       "  <tbody>\n",
       "    <tr>\n",
       "      <th>0</th>\n",
       "      <td>0</td>\n",
       "      <td>€1,500,000</td>\n",
       "      <td>NaN</td>\n",
       "      <td>Kazakhstan</td>\n",
       "      <td>NaN</td>\n",
       "      <td>110 min</td>\n",
       "      <td>[Drama]</td>\n",
       "      <td>NaN</td>\n",
       "      <td>Russian</td>\n",
       "      <td>[Minsk, Belarus , Almaty, Kazakhstan , St. Pet...</td>\n",
       "      <td>Ya ne vernus</td>\n",
       "      <td>NaN</td>\n",
       "      <td>[ 1 March 2014 (Russia) ]</td>\n",
       "      <td>/title/tt2637844/</td>\n",
       "      <td>6.9</td>\n",
       "      <td>320</td>\n",
       "      <td>2014</td>\n",
       "      <td>[minsk, belarus, almaty, kazakhstan, st. peter...</td>\n",
       "      <td>[minsk, belarus, almaty, kazakhstan, russia]</td>\n",
       "    </tr>\n",
       "    <tr>\n",
       "      <th>1</th>\n",
       "      <td>3</td>\n",
       "      <td>NaN</td>\n",
       "      <td>NaN</td>\n",
       "      <td>USA</td>\n",
       "      <td>NaN</td>\n",
       "      <td>85 min</td>\n",
       "      <td>[Horror, Mystery, Thriller]</td>\n",
       "      <td>NaN</td>\n",
       "      <td>English</td>\n",
       "      <td>[Silt, Colorado, USA ]</td>\n",
       "      <td>Find Me</td>\n",
       "      <td>NaN</td>\n",
       "      <td>[ 1 September 2014 (USA) ]</td>\n",
       "      <td>/title/tt3027188/</td>\n",
       "      <td>4.5</td>\n",
       "      <td>649</td>\n",
       "      <td>2014</td>\n",
       "      <td>[silt, colorado, usa]</td>\n",
       "      <td>[silt, colorado, usa]</td>\n",
       "    </tr>\n",
       "    <tr>\n",
       "      <th>2</th>\n",
       "      <td>4</td>\n",
       "      <td>NaN</td>\n",
       "      <td>NaN</td>\n",
       "      <td>Ireland</td>\n",
       "      <td>NaN</td>\n",
       "      <td>88 min</td>\n",
       "      <td>[Comedy, Drama, Family]</td>\n",
       "      <td>NaN</td>\n",
       "      <td>English</td>\n",
       "      <td>[Dublin, County Dublin, Ireland , County Wickl...</td>\n",
       "      <td>Gold</td>\n",
       "      <td>NaN</td>\n",
       "      <td>[ 10 October 2014 (Ireland) ]</td>\n",
       "      <td>/title/tt3134422/</td>\n",
       "      <td>6.1</td>\n",
       "      <td>406</td>\n",
       "      <td>2014</td>\n",
       "      <td>[dublin, county dublin, ireland, county wicklo...</td>\n",
       "      <td>[dublin, ireland, ireland]</td>\n",
       "    </tr>\n",
       "  </tbody>\n",
       "</table>\n",
       "</div>"
      ],
      "text/plain": [
       "   index      budget contentRating     country critic_ratings duration                        genre gross language                                      location_page          name opening_weekend                  release_dates                url  user_ratings user_ratings_count  year                                   separated_places                              separated_cities\n",
       "0      0  €1,500,000           NaN  Kazakhstan            NaN  110 min                      [Drama]   NaN  Russian  [Minsk, Belarus , Almaty, Kazakhstan , St. Pet...  Ya ne vernus             NaN      [ 1 March 2014 (Russia) ]  /title/tt2637844/           6.9                320  2014  [minsk, belarus, almaty, kazakhstan, st. peter...  [minsk, belarus, almaty, kazakhstan, russia]\n",
       "1      3         NaN           NaN         USA            NaN   85 min  [Horror, Mystery, Thriller]   NaN  English                             [Silt, Colorado, USA ]       Find Me             NaN     [ 1 September 2014 (USA) ]  /title/tt3027188/           4.5                649  2014                              [silt, colorado, usa]                         [silt, colorado, usa]\n",
       "2      4         NaN           NaN     Ireland            NaN   88 min      [Comedy, Drama, Family]   NaN  English  [Dublin, County Dublin, Ireland , County Wickl...          Gold             NaN  [ 10 October 2014 (Ireland) ]  /title/tt3134422/           6.1                406  2014  [dublin, county dublin, ireland, county wicklo...                    [dublin, ireland, ireland]"
      ]
     },
     "execution_count": 3,
     "metadata": {},
     "output_type": "execute_result"
    }
   ],
   "source": [
    "new_df_input.drop('level_0', axis=1, inplace=True)\n",
    "new_df_input.drop('Unnamed: 0', axis=1, inplace=True)\n",
    "new_df_input.head(3)"
   ]
  },
  {
   "cell_type": "code",
   "execution_count": 4,
   "metadata": {
    "collapsed": true
   },
   "outputs": [],
   "source": [
    "#Get set of unique cities\n",
    "\n",
    "def unique_entries(input_df, field):\n",
    "    entries = set()\n",
    "    for row in input_df[field]:\n",
    "        for loc in row:\n",
    "            entries.add(loc)\n",
    "    return entries\n",
    "\n",
    "#clean the column by removing brackets from the reads\n",
    "def clean_column(input_df, field):\n",
    "    cleanedrowlist = []\n",
    "    for row in input_df[field]:\n",
    "        cleanedrow =  row.replace('[', '')\n",
    "        cleanedrow =  cleanedrow.replace(']', '')\n",
    "        cleanedrow = cleanedrow.split(\", \")\n",
    "        cleanedrowlist.append(cleanedrow)\n",
    "    input_df[field] = cleanedrowlist"
   ]
  },
  {
   "cell_type": "markdown",
   "metadata": {},
   "source": [
    "Take 10,000 random samples."
   ]
  },
  {
   "cell_type": "code",
   "execution_count": 5,
   "metadata": {
    "collapsed": true
   },
   "outputs": [],
   "source": [
    "random.seed(10)\n",
    "\n",
    "SAMPLESIZE = 10000\n",
    "\n",
    "newdf_boolean_sampled = new_df_input.copy()\n",
    "clean_column(newdf_boolean_sampled, \"separated_cities\")\n",
    "clean_column(newdf_boolean_sampled, \"genre\")\n",
    "\n",
    "rows = random.sample(newdf_boolean_sampled.index, SAMPLESIZE)\n",
    "newdf_boolean_sampled = newdf_boolean_sampled.ix[rows]"
   ]
  },
  {
   "cell_type": "markdown",
   "metadata": {},
   "source": [
    "Extracting all the unique locations and genres that appear in the data."
   ]
  },
  {
   "cell_type": "code",
   "execution_count": 6,
   "metadata": {
    "collapsed": false
   },
   "outputs": [
    {
     "name": "stdout",
     "output_type": "stream",
     "text": [
      "4802\n"
     ]
    }
   ],
   "source": [
    "places3 = unique_entries(newdf_boolean_sampled, \"separated_cities\")\n",
    "if \"\" in places3:\n",
    "    places3.remove(\"\")\n",
    "if \"...\" in places3:\n",
    "    places3.remove(\"...\")\n",
    "print len(places3) "
   ]
  },
  {
   "cell_type": "code",
   "execution_count": 7,
   "metadata": {
    "collapsed": false
   },
   "outputs": [
    {
     "name": "stdout",
     "output_type": "stream",
     "text": [
      "24\n",
      "set([u'Sci-Fi', u'Crime', u'Romance', u'Animation', u'Music', u'Adult', u'Comedy', u'War', u'Horror', u'Western', u'News', u'Reality-TV', u'Thriller', u'Adventure', u'Mystery', u'Drama', u'Action', u'Musical', u'History', u'Family', u'Fantasy', u'Game-Show', u'Sport', u'Biography'])\n"
     ]
    }
   ],
   "source": [
    "genres3 = unique_entries(newdf_boolean_sampled, \"genre\")\n",
    "genres3.remove(\"\")\n",
    "print len(genres3) \n",
    "print genres3"
   ]
  },
  {
   "cell_type": "markdown",
   "metadata": {},
   "source": [
    "Here, we create a new data frame, called Xsampleddf, where the columns are locations and genres and each column is boolean."
   ]
  },
  {
   "cell_type": "code",
   "execution_count": 8,
   "metadata": {
    "collapsed": true
   },
   "outputs": [],
   "source": [
    "Xsampleddf = pd.DataFrame()\n",
    "#create a column for each city, and set to true if that row contains that city\n",
    "for place in places3:\n",
    "        Xsampleddf[place] = [place in location for location in newdf_boolean_sampled.separated_cities]\n",
    "for genre in genres3:\n",
    "        Xsampleddf[genre] = [genre in genre_entries for genre_entries in newdf_boolean_sampled.genre]"
   ]
  },
  {
   "cell_type": "code",
   "execution_count": 9,
   "metadata": {
    "collapsed": false
   },
   "outputs": [
    {
     "data": {
      "text/html": [
       "<div>\n",
       "<table border=\"1\" class=\"dataframe\">\n",
       "  <thead>\n",
       "    <tr style=\"text-align: right;\">\n",
       "      <th></th>\n",
       "      <th>trenton</th>\n",
       "      <th>bartoszyce</th>\n",
       "      <th>brindisi</th>\n",
       "      <th>bad grund</th>\n",
       "      <th>green river</th>\n",
       "      <th>ilulissat</th>\n",
       "      <th>chigasaki</th>\n",
       "      <th>collegeville</th>\n",
       "      <th>wilton manors</th>\n",
       "      <th>sichuan</th>\n",
       "      <th>nottingham</th>\n",
       "      <th>saylorsburg</th>\n",
       "      <th>uithoorn</th>\n",
       "      <th>brantford</th>\n",
       "      <th>roslyn</th>\n",
       "      <th>crete</th>\n",
       "      <th>kassel</th>\n",
       "      <th>tajikistan</th>\n",
       "      <th>zittau</th>\n",
       "      <th>san ignacio</th>\n",
       "      <th>sherman oaks</th>\n",
       "      <th>jaipur</th>\n",
       "      <th>paris</th>\n",
       "      <th>gig harbor</th>\n",
       "      <th>islip</th>\n",
       "      <th>potomac</th>\n",
       "      <th>colorno</th>\n",
       "      <th>geyserville</th>\n",
       "      <th>el campello</th>\n",
       "      <th>las palmas de gran canaria</th>\n",
       "      <th>pushkin</th>\n",
       "      <th>bagalkot</th>\n",
       "      <th>chennai</th>\n",
       "      <th>stanton</th>\n",
       "      <th>puente de ixtla</th>\n",
       "      <th>freudenstadt</th>\n",
       "      <th>wausau</th>\n",
       "      <th>aurora</th>\n",
       "      <th>bryn mawr</th>\n",
       "      <th>folsom</th>\n",
       "      <th>mary esther</th>\n",
       "      <th>bratislava</th>\n",
       "      <th>koprivnica</th>\n",
       "      <th>rapid city</th>\n",
       "      <th>truchas</th>\n",
       "      <th>georgia</th>\n",
       "      <th>jenkintown</th>\n",
       "      <th>roissy-en-france</th>\n",
       "      <th>cape may</th>\n",
       "      <th>yucaipa</th>\n",
       "      <th>...</th>\n",
       "      <th>deggendorf</th>\n",
       "      <th>kirkwood</th>\n",
       "      <th>harefield</th>\n",
       "      <th>warner springs</th>\n",
       "      <th>vence</th>\n",
       "      <th>whitby</th>\n",
       "      <th>heide</th>\n",
       "      <th>tarrytown</th>\n",
       "      <th>brechin</th>\n",
       "      <th>carcassonne</th>\n",
       "      <th>banff</th>\n",
       "      <th>montrose</th>\n",
       "      <th>baker</th>\n",
       "      <th>makati city</th>\n",
       "      <th>lloret de mar</th>\n",
       "      <th>charenton-le-pont</th>\n",
       "      <th>merthyr tydfil</th>\n",
       "      <th>scotch plains</th>\n",
       "      <th>oeiras</th>\n",
       "      <th>foster city</th>\n",
       "      <th>nuuk</th>\n",
       "      <th>abergele</th>\n",
       "      <th>westfield</th>\n",
       "      <th>bierset</th>\n",
       "      <th>arenys de mar</th>\n",
       "      <th>creuzburg</th>\n",
       "      <th>Sci-Fi</th>\n",
       "      <th>Crime</th>\n",
       "      <th>Romance</th>\n",
       "      <th>Animation</th>\n",
       "      <th>Music</th>\n",
       "      <th>Adult</th>\n",
       "      <th>Comedy</th>\n",
       "      <th>War</th>\n",
       "      <th>Horror</th>\n",
       "      <th>Western</th>\n",
       "      <th>News</th>\n",
       "      <th>Reality-TV</th>\n",
       "      <th>Thriller</th>\n",
       "      <th>Adventure</th>\n",
       "      <th>Mystery</th>\n",
       "      <th>Drama</th>\n",
       "      <th>Action</th>\n",
       "      <th>Musical</th>\n",
       "      <th>History</th>\n",
       "      <th>Family</th>\n",
       "      <th>Fantasy</th>\n",
       "      <th>Game-Show</th>\n",
       "      <th>Sport</th>\n",
       "      <th>Biography</th>\n",
       "    </tr>\n",
       "  </thead>\n",
       "  <tbody>\n",
       "    <tr>\n",
       "      <th>0</th>\n",
       "      <td>0</td>\n",
       "      <td>0</td>\n",
       "      <td>0</td>\n",
       "      <td>0</td>\n",
       "      <td>0</td>\n",
       "      <td>0</td>\n",
       "      <td>0</td>\n",
       "      <td>0</td>\n",
       "      <td>0</td>\n",
       "      <td>0</td>\n",
       "      <td>0</td>\n",
       "      <td>0</td>\n",
       "      <td>0</td>\n",
       "      <td>0</td>\n",
       "      <td>0</td>\n",
       "      <td>0</td>\n",
       "      <td>0</td>\n",
       "      <td>0</td>\n",
       "      <td>0</td>\n",
       "      <td>0</td>\n",
       "      <td>0</td>\n",
       "      <td>0</td>\n",
       "      <td>0</td>\n",
       "      <td>0</td>\n",
       "      <td>0</td>\n",
       "      <td>0</td>\n",
       "      <td>0</td>\n",
       "      <td>0</td>\n",
       "      <td>0</td>\n",
       "      <td>0</td>\n",
       "      <td>0</td>\n",
       "      <td>0</td>\n",
       "      <td>0</td>\n",
       "      <td>0</td>\n",
       "      <td>0</td>\n",
       "      <td>0</td>\n",
       "      <td>0</td>\n",
       "      <td>0</td>\n",
       "      <td>0</td>\n",
       "      <td>0</td>\n",
       "      <td>0</td>\n",
       "      <td>0</td>\n",
       "      <td>0</td>\n",
       "      <td>0</td>\n",
       "      <td>0</td>\n",
       "      <td>0</td>\n",
       "      <td>0</td>\n",
       "      <td>0</td>\n",
       "      <td>0</td>\n",
       "      <td>0</td>\n",
       "      <td>...</td>\n",
       "      <td>0</td>\n",
       "      <td>0</td>\n",
       "      <td>0</td>\n",
       "      <td>0</td>\n",
       "      <td>0</td>\n",
       "      <td>0</td>\n",
       "      <td>0</td>\n",
       "      <td>0</td>\n",
       "      <td>0</td>\n",
       "      <td>0</td>\n",
       "      <td>0</td>\n",
       "      <td>0</td>\n",
       "      <td>0</td>\n",
       "      <td>0</td>\n",
       "      <td>0</td>\n",
       "      <td>0</td>\n",
       "      <td>0</td>\n",
       "      <td>0</td>\n",
       "      <td>0</td>\n",
       "      <td>0</td>\n",
       "      <td>0</td>\n",
       "      <td>0</td>\n",
       "      <td>0</td>\n",
       "      <td>0</td>\n",
       "      <td>0</td>\n",
       "      <td>0</td>\n",
       "      <td>0</td>\n",
       "      <td>1</td>\n",
       "      <td>0</td>\n",
       "      <td>0</td>\n",
       "      <td>0</td>\n",
       "      <td>0</td>\n",
       "      <td>0</td>\n",
       "      <td>0</td>\n",
       "      <td>0</td>\n",
       "      <td>0</td>\n",
       "      <td>0</td>\n",
       "      <td>0</td>\n",
       "      <td>0</td>\n",
       "      <td>0</td>\n",
       "      <td>0</td>\n",
       "      <td>1</td>\n",
       "      <td>1</td>\n",
       "      <td>0</td>\n",
       "      <td>0</td>\n",
       "      <td>0</td>\n",
       "      <td>0</td>\n",
       "      <td>0</td>\n",
       "      <td>0</td>\n",
       "      <td>0</td>\n",
       "    </tr>\n",
       "    <tr>\n",
       "      <th>1</th>\n",
       "      <td>0</td>\n",
       "      <td>0</td>\n",
       "      <td>0</td>\n",
       "      <td>0</td>\n",
       "      <td>0</td>\n",
       "      <td>0</td>\n",
       "      <td>0</td>\n",
       "      <td>0</td>\n",
       "      <td>0</td>\n",
       "      <td>0</td>\n",
       "      <td>0</td>\n",
       "      <td>0</td>\n",
       "      <td>0</td>\n",
       "      <td>0</td>\n",
       "      <td>0</td>\n",
       "      <td>0</td>\n",
       "      <td>0</td>\n",
       "      <td>0</td>\n",
       "      <td>0</td>\n",
       "      <td>0</td>\n",
       "      <td>0</td>\n",
       "      <td>0</td>\n",
       "      <td>0</td>\n",
       "      <td>0</td>\n",
       "      <td>0</td>\n",
       "      <td>0</td>\n",
       "      <td>0</td>\n",
       "      <td>0</td>\n",
       "      <td>0</td>\n",
       "      <td>0</td>\n",
       "      <td>0</td>\n",
       "      <td>0</td>\n",
       "      <td>0</td>\n",
       "      <td>0</td>\n",
       "      <td>0</td>\n",
       "      <td>0</td>\n",
       "      <td>0</td>\n",
       "      <td>0</td>\n",
       "      <td>0</td>\n",
       "      <td>0</td>\n",
       "      <td>0</td>\n",
       "      <td>0</td>\n",
       "      <td>0</td>\n",
       "      <td>0</td>\n",
       "      <td>0</td>\n",
       "      <td>0</td>\n",
       "      <td>0</td>\n",
       "      <td>0</td>\n",
       "      <td>0</td>\n",
       "      <td>0</td>\n",
       "      <td>...</td>\n",
       "      <td>0</td>\n",
       "      <td>0</td>\n",
       "      <td>0</td>\n",
       "      <td>0</td>\n",
       "      <td>0</td>\n",
       "      <td>0</td>\n",
       "      <td>0</td>\n",
       "      <td>0</td>\n",
       "      <td>0</td>\n",
       "      <td>0</td>\n",
       "      <td>0</td>\n",
       "      <td>0</td>\n",
       "      <td>0</td>\n",
       "      <td>0</td>\n",
       "      <td>0</td>\n",
       "      <td>0</td>\n",
       "      <td>0</td>\n",
       "      <td>0</td>\n",
       "      <td>0</td>\n",
       "      <td>0</td>\n",
       "      <td>0</td>\n",
       "      <td>0</td>\n",
       "      <td>0</td>\n",
       "      <td>0</td>\n",
       "      <td>0</td>\n",
       "      <td>0</td>\n",
       "      <td>0</td>\n",
       "      <td>1</td>\n",
       "      <td>0</td>\n",
       "      <td>0</td>\n",
       "      <td>0</td>\n",
       "      <td>0</td>\n",
       "      <td>1</td>\n",
       "      <td>0</td>\n",
       "      <td>0</td>\n",
       "      <td>0</td>\n",
       "      <td>0</td>\n",
       "      <td>0</td>\n",
       "      <td>0</td>\n",
       "      <td>0</td>\n",
       "      <td>0</td>\n",
       "      <td>0</td>\n",
       "      <td>0</td>\n",
       "      <td>0</td>\n",
       "      <td>0</td>\n",
       "      <td>0</td>\n",
       "      <td>0</td>\n",
       "      <td>0</td>\n",
       "      <td>0</td>\n",
       "      <td>0</td>\n",
       "    </tr>\n",
       "    <tr>\n",
       "      <th>2</th>\n",
       "      <td>0</td>\n",
       "      <td>0</td>\n",
       "      <td>0</td>\n",
       "      <td>0</td>\n",
       "      <td>0</td>\n",
       "      <td>0</td>\n",
       "      <td>0</td>\n",
       "      <td>0</td>\n",
       "      <td>0</td>\n",
       "      <td>0</td>\n",
       "      <td>0</td>\n",
       "      <td>0</td>\n",
       "      <td>0</td>\n",
       "      <td>0</td>\n",
       "      <td>0</td>\n",
       "      <td>0</td>\n",
       "      <td>0</td>\n",
       "      <td>0</td>\n",
       "      <td>0</td>\n",
       "      <td>0</td>\n",
       "      <td>0</td>\n",
       "      <td>0</td>\n",
       "      <td>0</td>\n",
       "      <td>0</td>\n",
       "      <td>0</td>\n",
       "      <td>0</td>\n",
       "      <td>0</td>\n",
       "      <td>0</td>\n",
       "      <td>0</td>\n",
       "      <td>0</td>\n",
       "      <td>0</td>\n",
       "      <td>0</td>\n",
       "      <td>0</td>\n",
       "      <td>0</td>\n",
       "      <td>0</td>\n",
       "      <td>0</td>\n",
       "      <td>0</td>\n",
       "      <td>0</td>\n",
       "      <td>0</td>\n",
       "      <td>0</td>\n",
       "      <td>0</td>\n",
       "      <td>0</td>\n",
       "      <td>0</td>\n",
       "      <td>0</td>\n",
       "      <td>0</td>\n",
       "      <td>0</td>\n",
       "      <td>0</td>\n",
       "      <td>0</td>\n",
       "      <td>0</td>\n",
       "      <td>0</td>\n",
       "      <td>...</td>\n",
       "      <td>0</td>\n",
       "      <td>0</td>\n",
       "      <td>0</td>\n",
       "      <td>0</td>\n",
       "      <td>0</td>\n",
       "      <td>0</td>\n",
       "      <td>0</td>\n",
       "      <td>0</td>\n",
       "      <td>0</td>\n",
       "      <td>0</td>\n",
       "      <td>0</td>\n",
       "      <td>0</td>\n",
       "      <td>0</td>\n",
       "      <td>0</td>\n",
       "      <td>0</td>\n",
       "      <td>0</td>\n",
       "      <td>0</td>\n",
       "      <td>0</td>\n",
       "      <td>0</td>\n",
       "      <td>0</td>\n",
       "      <td>0</td>\n",
       "      <td>0</td>\n",
       "      <td>0</td>\n",
       "      <td>0</td>\n",
       "      <td>0</td>\n",
       "      <td>0</td>\n",
       "      <td>0</td>\n",
       "      <td>0</td>\n",
       "      <td>0</td>\n",
       "      <td>0</td>\n",
       "      <td>0</td>\n",
       "      <td>0</td>\n",
       "      <td>0</td>\n",
       "      <td>0</td>\n",
       "      <td>0</td>\n",
       "      <td>0</td>\n",
       "      <td>0</td>\n",
       "      <td>0</td>\n",
       "      <td>1</td>\n",
       "      <td>1</td>\n",
       "      <td>0</td>\n",
       "      <td>1</td>\n",
       "      <td>0</td>\n",
       "      <td>0</td>\n",
       "      <td>0</td>\n",
       "      <td>0</td>\n",
       "      <td>0</td>\n",
       "      <td>0</td>\n",
       "      <td>0</td>\n",
       "      <td>0</td>\n",
       "    </tr>\n",
       "    <tr>\n",
       "      <th>3</th>\n",
       "      <td>0</td>\n",
       "      <td>0</td>\n",
       "      <td>0</td>\n",
       "      <td>0</td>\n",
       "      <td>0</td>\n",
       "      <td>0</td>\n",
       "      <td>0</td>\n",
       "      <td>0</td>\n",
       "      <td>0</td>\n",
       "      <td>0</td>\n",
       "      <td>0</td>\n",
       "      <td>0</td>\n",
       "      <td>0</td>\n",
       "      <td>0</td>\n",
       "      <td>0</td>\n",
       "      <td>0</td>\n",
       "      <td>0</td>\n",
       "      <td>0</td>\n",
       "      <td>0</td>\n",
       "      <td>0</td>\n",
       "      <td>0</td>\n",
       "      <td>0</td>\n",
       "      <td>0</td>\n",
       "      <td>0</td>\n",
       "      <td>0</td>\n",
       "      <td>0</td>\n",
       "      <td>0</td>\n",
       "      <td>0</td>\n",
       "      <td>0</td>\n",
       "      <td>0</td>\n",
       "      <td>0</td>\n",
       "      <td>0</td>\n",
       "      <td>0</td>\n",
       "      <td>0</td>\n",
       "      <td>0</td>\n",
       "      <td>0</td>\n",
       "      <td>0</td>\n",
       "      <td>0</td>\n",
       "      <td>0</td>\n",
       "      <td>0</td>\n",
       "      <td>0</td>\n",
       "      <td>0</td>\n",
       "      <td>0</td>\n",
       "      <td>0</td>\n",
       "      <td>0</td>\n",
       "      <td>0</td>\n",
       "      <td>0</td>\n",
       "      <td>0</td>\n",
       "      <td>0</td>\n",
       "      <td>0</td>\n",
       "      <td>...</td>\n",
       "      <td>0</td>\n",
       "      <td>0</td>\n",
       "      <td>0</td>\n",
       "      <td>0</td>\n",
       "      <td>0</td>\n",
       "      <td>0</td>\n",
       "      <td>0</td>\n",
       "      <td>0</td>\n",
       "      <td>0</td>\n",
       "      <td>0</td>\n",
       "      <td>0</td>\n",
       "      <td>0</td>\n",
       "      <td>0</td>\n",
       "      <td>0</td>\n",
       "      <td>0</td>\n",
       "      <td>0</td>\n",
       "      <td>0</td>\n",
       "      <td>0</td>\n",
       "      <td>0</td>\n",
       "      <td>0</td>\n",
       "      <td>0</td>\n",
       "      <td>0</td>\n",
       "      <td>0</td>\n",
       "      <td>0</td>\n",
       "      <td>0</td>\n",
       "      <td>0</td>\n",
       "      <td>0</td>\n",
       "      <td>0</td>\n",
       "      <td>0</td>\n",
       "      <td>0</td>\n",
       "      <td>0</td>\n",
       "      <td>0</td>\n",
       "      <td>0</td>\n",
       "      <td>0</td>\n",
       "      <td>1</td>\n",
       "      <td>0</td>\n",
       "      <td>0</td>\n",
       "      <td>0</td>\n",
       "      <td>0</td>\n",
       "      <td>0</td>\n",
       "      <td>0</td>\n",
       "      <td>0</td>\n",
       "      <td>0</td>\n",
       "      <td>0</td>\n",
       "      <td>0</td>\n",
       "      <td>0</td>\n",
       "      <td>0</td>\n",
       "      <td>0</td>\n",
       "      <td>0</td>\n",
       "      <td>0</td>\n",
       "    </tr>\n",
       "    <tr>\n",
       "      <th>4</th>\n",
       "      <td>0</td>\n",
       "      <td>0</td>\n",
       "      <td>0</td>\n",
       "      <td>0</td>\n",
       "      <td>0</td>\n",
       "      <td>0</td>\n",
       "      <td>0</td>\n",
       "      <td>0</td>\n",
       "      <td>0</td>\n",
       "      <td>0</td>\n",
       "      <td>0</td>\n",
       "      <td>0</td>\n",
       "      <td>0</td>\n",
       "      <td>0</td>\n",
       "      <td>0</td>\n",
       "      <td>0</td>\n",
       "      <td>0</td>\n",
       "      <td>0</td>\n",
       "      <td>0</td>\n",
       "      <td>0</td>\n",
       "      <td>0</td>\n",
       "      <td>0</td>\n",
       "      <td>0</td>\n",
       "      <td>0</td>\n",
       "      <td>0</td>\n",
       "      <td>0</td>\n",
       "      <td>0</td>\n",
       "      <td>0</td>\n",
       "      <td>0</td>\n",
       "      <td>0</td>\n",
       "      <td>0</td>\n",
       "      <td>0</td>\n",
       "      <td>0</td>\n",
       "      <td>0</td>\n",
       "      <td>0</td>\n",
       "      <td>0</td>\n",
       "      <td>0</td>\n",
       "      <td>0</td>\n",
       "      <td>0</td>\n",
       "      <td>0</td>\n",
       "      <td>0</td>\n",
       "      <td>0</td>\n",
       "      <td>0</td>\n",
       "      <td>0</td>\n",
       "      <td>0</td>\n",
       "      <td>0</td>\n",
       "      <td>0</td>\n",
       "      <td>0</td>\n",
       "      <td>0</td>\n",
       "      <td>0</td>\n",
       "      <td>...</td>\n",
       "      <td>0</td>\n",
       "      <td>0</td>\n",
       "      <td>0</td>\n",
       "      <td>0</td>\n",
       "      <td>0</td>\n",
       "      <td>0</td>\n",
       "      <td>0</td>\n",
       "      <td>0</td>\n",
       "      <td>0</td>\n",
       "      <td>0</td>\n",
       "      <td>0</td>\n",
       "      <td>0</td>\n",
       "      <td>0</td>\n",
       "      <td>0</td>\n",
       "      <td>0</td>\n",
       "      <td>0</td>\n",
       "      <td>0</td>\n",
       "      <td>0</td>\n",
       "      <td>0</td>\n",
       "      <td>0</td>\n",
       "      <td>0</td>\n",
       "      <td>0</td>\n",
       "      <td>0</td>\n",
       "      <td>0</td>\n",
       "      <td>0</td>\n",
       "      <td>0</td>\n",
       "      <td>0</td>\n",
       "      <td>0</td>\n",
       "      <td>0</td>\n",
       "      <td>0</td>\n",
       "      <td>0</td>\n",
       "      <td>0</td>\n",
       "      <td>0</td>\n",
       "      <td>0</td>\n",
       "      <td>0</td>\n",
       "      <td>0</td>\n",
       "      <td>0</td>\n",
       "      <td>0</td>\n",
       "      <td>0</td>\n",
       "      <td>0</td>\n",
       "      <td>0</td>\n",
       "      <td>1</td>\n",
       "      <td>0</td>\n",
       "      <td>0</td>\n",
       "      <td>0</td>\n",
       "      <td>0</td>\n",
       "      <td>0</td>\n",
       "      <td>0</td>\n",
       "      <td>0</td>\n",
       "      <td>0</td>\n",
       "    </tr>\n",
       "  </tbody>\n",
       "</table>\n",
       "<p>5 rows × 4826 columns</p>\n",
       "</div>"
      ],
      "text/plain": [
       "   trenton  bartoszyce  brindisi  bad grund  green river  ilulissat  chigasaki  collegeville  wilton manors  sichuan  nottingham  saylorsburg  uithoorn  brantford  roslyn  crete  kassel  tajikistan  zittau  san ignacio  sherman oaks  jaipur  paris  gig harbor  islip  potomac  colorno  geyserville  el campello  las palmas de gran canaria  pushkin  bagalkot  chennai  stanton  puente de ixtla  freudenstadt  wausau  aurora  bryn mawr  folsom  mary esther  bratislava  koprivnica  rapid city  \\\n",
       "0        0           0         0          0            0          0          0             0              0        0           0            0         0          0       0      0       0           0       0            0             0       0      0           0      0        0        0            0            0                           0        0         0        0        0                0             0       0       0          0       0            0           0           0           0   \n",
       "1        0           0         0          0            0          0          0             0              0        0           0            0         0          0       0      0       0           0       0            0             0       0      0           0      0        0        0            0            0                           0        0         0        0        0                0             0       0       0          0       0            0           0           0           0   \n",
       "2        0           0         0          0            0          0          0             0              0        0           0            0         0          0       0      0       0           0       0            0             0       0      0           0      0        0        0            0            0                           0        0         0        0        0                0             0       0       0          0       0            0           0           0           0   \n",
       "3        0           0         0          0            0          0          0             0              0        0           0            0         0          0       0      0       0           0       0            0             0       0      0           0      0        0        0            0            0                           0        0         0        0        0                0             0       0       0          0       0            0           0           0           0   \n",
       "4        0           0         0          0            0          0          0             0              0        0           0            0         0          0       0      0       0           0       0            0             0       0      0           0      0        0        0            0            0                           0        0         0        0        0                0             0       0       0          0       0            0           0           0           0   \n",
       "\n",
       "   truchas  georgia  jenkintown  roissy-en-france  cape may  yucaipa    ...      deggendorf  kirkwood  harefield  warner springs  vence  whitby  heide  tarrytown  brechin  carcassonne  banff  montrose  baker  makati city  lloret de mar  charenton-le-pont  merthyr tydfil  scotch plains  oeiras  foster city  nuuk  abergele  westfield  bierset  arenys de mar  creuzburg  Sci-Fi  Crime  Romance  Animation  Music  Adult  Comedy  War  Horror  Western  News  Reality-TV  Thriller  Adventure  Mystery  \\\n",
       "0        0        0           0                 0         0        0    ...               0         0          0               0      0       0      0          0        0            0      0         0      0            0              0                  0               0              0       0            0     0         0          0        0              0          0       0      1        0          0      0      0       0    0       0        0     0           0         0          0        0   \n",
       "1        0        0           0                 0         0        0    ...               0         0          0               0      0       0      0          0        0            0      0         0      0            0              0                  0               0              0       0            0     0         0          0        0              0          0       0      1        0          0      0      0       1    0       0        0     0           0         0          0        0   \n",
       "2        0        0           0                 0         0        0    ...               0         0          0               0      0       0      0          0        0            0      0         0      0            0              0                  0               0              0       0            0     0         0          0        0              0          0       0      0        0          0      0      0       0    0       0        0     0           0         1          1        0   \n",
       "3        0        0           0                 0         0        0    ...               0         0          0               0      0       0      0          0        0            0      0         0      0            0              0                  0               0              0       0            0     0         0          0        0              0          0       0      0        0          0      0      0       0    0       1        0     0           0         0          0        0   \n",
       "4        0        0           0                 0         0        0    ...               0         0          0               0      0       0      0          0        0            0      0         0      0            0              0                  0               0              0       0            0     0         0          0        0              0          0       0      0        0          0      0      0       0    0       0        0     0           0         0          0        0   \n",
       "\n",
       "   Drama  Action  Musical  History  Family  Fantasy  Game-Show  Sport  Biography  \n",
       "0      1       1        0        0       0        0          0      0          0  \n",
       "1      0       0        0        0       0        0          0      0          0  \n",
       "2      1       0        0        0       0        0          0      0          0  \n",
       "3      0       0        0        0       0        0          0      0          0  \n",
       "4      1       0        0        0       0        0          0      0          0  \n",
       "\n",
       "[5 rows x 4826 columns]"
      ]
     },
     "execution_count": 9,
     "metadata": {},
     "output_type": "execute_result"
    }
   ],
   "source": [
    "Xsampleddf = Xsampleddf.astype(int)\n",
    "Xsampleddf.head(5)"
   ]
  },
  {
   "cell_type": "markdown",
   "metadata": {},
   "source": [
    "Getting user ratings and categorising them into well-received or not."
   ]
  },
  {
   "cell_type": "code",
   "execution_count": 10,
   "metadata": {
    "collapsed": true
   },
   "outputs": [],
   "source": [
    "#Code previously used to find median ratings, no longer relevant after switching to approach 1\n",
    "def get_median(input_df):\n",
    "    rating_list = []\n",
    "    for x in input_df[\"user_ratings\"]:\n",
    "        if isinstance(x, (np.ndarray, np.generic) ):\n",
    "            rating_list.append(x)\n",
    "\n",
    "    print np.mean(rating_list)\n",
    "    ratingmedian = np.median(rating_list)\n",
    "    print ratingmedian\n",
    "    return ratingmedian"
   ]
  },
  {
   "cell_type": "code",
   "execution_count": 11,
   "metadata": {
    "collapsed": true
   },
   "outputs": [],
   "source": [
    "def get_ratingdf(inputdf):\n",
    "    ratingsdf = pd.DataFrame()\n",
    "    #ratingmedian = get_median(inputdf)\n",
    "    ratingmedian = 5\n",
    "    ratingslist = []\n",
    "    for x in range(len(inputdf)):\n",
    "        if inputdf[\"user_ratings\"].iloc[x] >= ratingmedian:\n",
    "            ratingslist.append(1)\n",
    "        else:\n",
    "            ratingslist.append(0)\n",
    "    ratingsdf[\"reception\"] = ratingslist\n",
    "    return ratingsdf"
   ]
  },
  {
   "cell_type": "code",
   "execution_count": 12,
   "metadata": {
    "collapsed": false
   },
   "outputs": [
    {
     "data": {
      "text/html": [
       "<div>\n",
       "<table border=\"1\" class=\"dataframe\">\n",
       "  <thead>\n",
       "    <tr style=\"text-align: right;\">\n",
       "      <th></th>\n",
       "      <th>reception</th>\n",
       "    </tr>\n",
       "  </thead>\n",
       "  <tbody>\n",
       "    <tr>\n",
       "      <th>0</th>\n",
       "      <td>0</td>\n",
       "    </tr>\n",
       "    <tr>\n",
       "      <th>1</th>\n",
       "      <td>1</td>\n",
       "    </tr>\n",
       "    <tr>\n",
       "      <th>2</th>\n",
       "      <td>1</td>\n",
       "    </tr>\n",
       "    <tr>\n",
       "      <th>3</th>\n",
       "      <td>0</td>\n",
       "    </tr>\n",
       "    <tr>\n",
       "      <th>4</th>\n",
       "      <td>1</td>\n",
       "    </tr>\n",
       "  </tbody>\n",
       "</table>\n",
       "</div>"
      ],
      "text/plain": [
       "   reception\n",
       "0          0\n",
       "1          1\n",
       "2          1\n",
       "3          0\n",
       "4          1"
      ]
     },
     "execution_count": 12,
     "metadata": {},
     "output_type": "execute_result"
    }
   ],
   "source": [
    "ratingsdf_sampled = get_ratingdf(newdf_boolean_sampled)\n",
    "ratingsdf_sampled.head()"
   ]
  },
  {
   "cell_type": "markdown",
   "metadata": {},
   "source": [
    "Creating data frame specifically for descriptive statistics and linear regression."
   ]
  },
  {
   "cell_type": "code",
   "execution_count": 13,
   "metadata": {
    "collapsed": false
   },
   "outputs": [
    {
     "data": {
      "text/plain": [
       "0    4.1\n",
       "1    5.8\n",
       "2    5.9\n",
       "3    4.1\n",
       "4    6.6\n",
       "Name: user_ratings, dtype: float64"
      ]
     },
     "execution_count": 13,
     "metadata": {},
     "output_type": "execute_result"
    }
   ],
   "source": [
    "newdf_boolean_sampled = newdf_boolean_sampled.reset_index()\n",
    "newdf_boolean_sampled[\"user_ratings\"].head()"
   ]
  },
  {
   "cell_type": "code",
   "execution_count": 14,
   "metadata": {
    "collapsed": false
   },
   "outputs": [
    {
     "data": {
      "text/html": [
       "<div>\n",
       "<table border=\"1\" class=\"dataframe\">\n",
       "  <thead>\n",
       "    <tr style=\"text-align: right;\">\n",
       "      <th></th>\n",
       "      <th>user_ratings</th>\n",
       "      <th>trenton</th>\n",
       "      <th>bartoszyce</th>\n",
       "      <th>brindisi</th>\n",
       "      <th>bad grund</th>\n",
       "      <th>green river</th>\n",
       "      <th>ilulissat</th>\n",
       "      <th>chigasaki</th>\n",
       "      <th>collegeville</th>\n",
       "      <th>wilton manors</th>\n",
       "      <th>sichuan</th>\n",
       "      <th>nottingham</th>\n",
       "      <th>saylorsburg</th>\n",
       "      <th>uithoorn</th>\n",
       "      <th>brantford</th>\n",
       "      <th>roslyn</th>\n",
       "      <th>crete</th>\n",
       "      <th>kassel</th>\n",
       "      <th>tajikistan</th>\n",
       "      <th>zittau</th>\n",
       "      <th>san ignacio</th>\n",
       "      <th>sherman oaks</th>\n",
       "      <th>jaipur</th>\n",
       "      <th>paris</th>\n",
       "      <th>gig harbor</th>\n",
       "      <th>islip</th>\n",
       "      <th>potomac</th>\n",
       "      <th>colorno</th>\n",
       "      <th>geyserville</th>\n",
       "      <th>el campello</th>\n",
       "      <th>las palmas de gran canaria</th>\n",
       "      <th>pushkin</th>\n",
       "      <th>bagalkot</th>\n",
       "      <th>chennai</th>\n",
       "      <th>stanton</th>\n",
       "      <th>puente de ixtla</th>\n",
       "      <th>freudenstadt</th>\n",
       "      <th>wausau</th>\n",
       "      <th>aurora</th>\n",
       "      <th>bryn mawr</th>\n",
       "      <th>folsom</th>\n",
       "      <th>mary esther</th>\n",
       "      <th>bratislava</th>\n",
       "      <th>koprivnica</th>\n",
       "      <th>rapid city</th>\n",
       "      <th>truchas</th>\n",
       "      <th>georgia</th>\n",
       "      <th>jenkintown</th>\n",
       "      <th>roissy-en-france</th>\n",
       "      <th>cape may</th>\n",
       "      <th>...</th>\n",
       "      <th>deggendorf</th>\n",
       "      <th>kirkwood</th>\n",
       "      <th>harefield</th>\n",
       "      <th>warner springs</th>\n",
       "      <th>vence</th>\n",
       "      <th>whitby</th>\n",
       "      <th>heide</th>\n",
       "      <th>tarrytown</th>\n",
       "      <th>brechin</th>\n",
       "      <th>carcassonne</th>\n",
       "      <th>banff</th>\n",
       "      <th>montrose</th>\n",
       "      <th>baker</th>\n",
       "      <th>makati city</th>\n",
       "      <th>lloret de mar</th>\n",
       "      <th>charenton-le-pont</th>\n",
       "      <th>merthyr tydfil</th>\n",
       "      <th>scotch plains</th>\n",
       "      <th>oeiras</th>\n",
       "      <th>foster city</th>\n",
       "      <th>nuuk</th>\n",
       "      <th>abergele</th>\n",
       "      <th>westfield</th>\n",
       "      <th>bierset</th>\n",
       "      <th>arenys de mar</th>\n",
       "      <th>creuzburg</th>\n",
       "      <th>Sci-Fi</th>\n",
       "      <th>Crime</th>\n",
       "      <th>Romance</th>\n",
       "      <th>Animation</th>\n",
       "      <th>Music</th>\n",
       "      <th>Adult</th>\n",
       "      <th>Comedy</th>\n",
       "      <th>War</th>\n",
       "      <th>Horror</th>\n",
       "      <th>Western</th>\n",
       "      <th>News</th>\n",
       "      <th>Reality-TV</th>\n",
       "      <th>Thriller</th>\n",
       "      <th>Adventure</th>\n",
       "      <th>Mystery</th>\n",
       "      <th>Drama</th>\n",
       "      <th>Action</th>\n",
       "      <th>Musical</th>\n",
       "      <th>History</th>\n",
       "      <th>Family</th>\n",
       "      <th>Fantasy</th>\n",
       "      <th>Game-Show</th>\n",
       "      <th>Sport</th>\n",
       "      <th>Biography</th>\n",
       "    </tr>\n",
       "  </thead>\n",
       "  <tbody>\n",
       "    <tr>\n",
       "      <th>0</th>\n",
       "      <td>4.1</td>\n",
       "      <td>0</td>\n",
       "      <td>0</td>\n",
       "      <td>0</td>\n",
       "      <td>0</td>\n",
       "      <td>0</td>\n",
       "      <td>0</td>\n",
       "      <td>0</td>\n",
       "      <td>0</td>\n",
       "      <td>0</td>\n",
       "      <td>0</td>\n",
       "      <td>0</td>\n",
       "      <td>0</td>\n",
       "      <td>0</td>\n",
       "      <td>0</td>\n",
       "      <td>0</td>\n",
       "      <td>0</td>\n",
       "      <td>0</td>\n",
       "      <td>0</td>\n",
       "      <td>0</td>\n",
       "      <td>0</td>\n",
       "      <td>0</td>\n",
       "      <td>0</td>\n",
       "      <td>0</td>\n",
       "      <td>0</td>\n",
       "      <td>0</td>\n",
       "      <td>0</td>\n",
       "      <td>0</td>\n",
       "      <td>0</td>\n",
       "      <td>0</td>\n",
       "      <td>0</td>\n",
       "      <td>0</td>\n",
       "      <td>0</td>\n",
       "      <td>0</td>\n",
       "      <td>0</td>\n",
       "      <td>0</td>\n",
       "      <td>0</td>\n",
       "      <td>0</td>\n",
       "      <td>0</td>\n",
       "      <td>0</td>\n",
       "      <td>0</td>\n",
       "      <td>0</td>\n",
       "      <td>0</td>\n",
       "      <td>0</td>\n",
       "      <td>0</td>\n",
       "      <td>0</td>\n",
       "      <td>0</td>\n",
       "      <td>0</td>\n",
       "      <td>0</td>\n",
       "      <td>0</td>\n",
       "      <td>...</td>\n",
       "      <td>0</td>\n",
       "      <td>0</td>\n",
       "      <td>0</td>\n",
       "      <td>0</td>\n",
       "      <td>0</td>\n",
       "      <td>0</td>\n",
       "      <td>0</td>\n",
       "      <td>0</td>\n",
       "      <td>0</td>\n",
       "      <td>0</td>\n",
       "      <td>0</td>\n",
       "      <td>0</td>\n",
       "      <td>0</td>\n",
       "      <td>0</td>\n",
       "      <td>0</td>\n",
       "      <td>0</td>\n",
       "      <td>0</td>\n",
       "      <td>0</td>\n",
       "      <td>0</td>\n",
       "      <td>0</td>\n",
       "      <td>0</td>\n",
       "      <td>0</td>\n",
       "      <td>0</td>\n",
       "      <td>0</td>\n",
       "      <td>0</td>\n",
       "      <td>0</td>\n",
       "      <td>0</td>\n",
       "      <td>1</td>\n",
       "      <td>0</td>\n",
       "      <td>0</td>\n",
       "      <td>0</td>\n",
       "      <td>0</td>\n",
       "      <td>0</td>\n",
       "      <td>0</td>\n",
       "      <td>0</td>\n",
       "      <td>0</td>\n",
       "      <td>0</td>\n",
       "      <td>0</td>\n",
       "      <td>0</td>\n",
       "      <td>0</td>\n",
       "      <td>0</td>\n",
       "      <td>1</td>\n",
       "      <td>1</td>\n",
       "      <td>0</td>\n",
       "      <td>0</td>\n",
       "      <td>0</td>\n",
       "      <td>0</td>\n",
       "      <td>0</td>\n",
       "      <td>0</td>\n",
       "      <td>0</td>\n",
       "    </tr>\n",
       "    <tr>\n",
       "      <th>1</th>\n",
       "      <td>5.8</td>\n",
       "      <td>0</td>\n",
       "      <td>0</td>\n",
       "      <td>0</td>\n",
       "      <td>0</td>\n",
       "      <td>0</td>\n",
       "      <td>0</td>\n",
       "      <td>0</td>\n",
       "      <td>0</td>\n",
       "      <td>0</td>\n",
       "      <td>0</td>\n",
       "      <td>0</td>\n",
       "      <td>0</td>\n",
       "      <td>0</td>\n",
       "      <td>0</td>\n",
       "      <td>0</td>\n",
       "      <td>0</td>\n",
       "      <td>0</td>\n",
       "      <td>0</td>\n",
       "      <td>0</td>\n",
       "      <td>0</td>\n",
       "      <td>0</td>\n",
       "      <td>0</td>\n",
       "      <td>0</td>\n",
       "      <td>0</td>\n",
       "      <td>0</td>\n",
       "      <td>0</td>\n",
       "      <td>0</td>\n",
       "      <td>0</td>\n",
       "      <td>0</td>\n",
       "      <td>0</td>\n",
       "      <td>0</td>\n",
       "      <td>0</td>\n",
       "      <td>0</td>\n",
       "      <td>0</td>\n",
       "      <td>0</td>\n",
       "      <td>0</td>\n",
       "      <td>0</td>\n",
       "      <td>0</td>\n",
       "      <td>0</td>\n",
       "      <td>0</td>\n",
       "      <td>0</td>\n",
       "      <td>0</td>\n",
       "      <td>0</td>\n",
       "      <td>0</td>\n",
       "      <td>0</td>\n",
       "      <td>0</td>\n",
       "      <td>0</td>\n",
       "      <td>0</td>\n",
       "      <td>0</td>\n",
       "      <td>...</td>\n",
       "      <td>0</td>\n",
       "      <td>0</td>\n",
       "      <td>0</td>\n",
       "      <td>0</td>\n",
       "      <td>0</td>\n",
       "      <td>0</td>\n",
       "      <td>0</td>\n",
       "      <td>0</td>\n",
       "      <td>0</td>\n",
       "      <td>0</td>\n",
       "      <td>0</td>\n",
       "      <td>0</td>\n",
       "      <td>0</td>\n",
       "      <td>0</td>\n",
       "      <td>0</td>\n",
       "      <td>0</td>\n",
       "      <td>0</td>\n",
       "      <td>0</td>\n",
       "      <td>0</td>\n",
       "      <td>0</td>\n",
       "      <td>0</td>\n",
       "      <td>0</td>\n",
       "      <td>0</td>\n",
       "      <td>0</td>\n",
       "      <td>0</td>\n",
       "      <td>0</td>\n",
       "      <td>0</td>\n",
       "      <td>1</td>\n",
       "      <td>0</td>\n",
       "      <td>0</td>\n",
       "      <td>0</td>\n",
       "      <td>0</td>\n",
       "      <td>1</td>\n",
       "      <td>0</td>\n",
       "      <td>0</td>\n",
       "      <td>0</td>\n",
       "      <td>0</td>\n",
       "      <td>0</td>\n",
       "      <td>0</td>\n",
       "      <td>0</td>\n",
       "      <td>0</td>\n",
       "      <td>0</td>\n",
       "      <td>0</td>\n",
       "      <td>0</td>\n",
       "      <td>0</td>\n",
       "      <td>0</td>\n",
       "      <td>0</td>\n",
       "      <td>0</td>\n",
       "      <td>0</td>\n",
       "      <td>0</td>\n",
       "    </tr>\n",
       "    <tr>\n",
       "      <th>2</th>\n",
       "      <td>5.9</td>\n",
       "      <td>0</td>\n",
       "      <td>0</td>\n",
       "      <td>0</td>\n",
       "      <td>0</td>\n",
       "      <td>0</td>\n",
       "      <td>0</td>\n",
       "      <td>0</td>\n",
       "      <td>0</td>\n",
       "      <td>0</td>\n",
       "      <td>0</td>\n",
       "      <td>0</td>\n",
       "      <td>0</td>\n",
       "      <td>0</td>\n",
       "      <td>0</td>\n",
       "      <td>0</td>\n",
       "      <td>0</td>\n",
       "      <td>0</td>\n",
       "      <td>0</td>\n",
       "      <td>0</td>\n",
       "      <td>0</td>\n",
       "      <td>0</td>\n",
       "      <td>0</td>\n",
       "      <td>0</td>\n",
       "      <td>0</td>\n",
       "      <td>0</td>\n",
       "      <td>0</td>\n",
       "      <td>0</td>\n",
       "      <td>0</td>\n",
       "      <td>0</td>\n",
       "      <td>0</td>\n",
       "      <td>0</td>\n",
       "      <td>0</td>\n",
       "      <td>0</td>\n",
       "      <td>0</td>\n",
       "      <td>0</td>\n",
       "      <td>0</td>\n",
       "      <td>0</td>\n",
       "      <td>0</td>\n",
       "      <td>0</td>\n",
       "      <td>0</td>\n",
       "      <td>0</td>\n",
       "      <td>0</td>\n",
       "      <td>0</td>\n",
       "      <td>0</td>\n",
       "      <td>0</td>\n",
       "      <td>0</td>\n",
       "      <td>0</td>\n",
       "      <td>0</td>\n",
       "      <td>0</td>\n",
       "      <td>...</td>\n",
       "      <td>0</td>\n",
       "      <td>0</td>\n",
       "      <td>0</td>\n",
       "      <td>0</td>\n",
       "      <td>0</td>\n",
       "      <td>0</td>\n",
       "      <td>0</td>\n",
       "      <td>0</td>\n",
       "      <td>0</td>\n",
       "      <td>0</td>\n",
       "      <td>0</td>\n",
       "      <td>0</td>\n",
       "      <td>0</td>\n",
       "      <td>0</td>\n",
       "      <td>0</td>\n",
       "      <td>0</td>\n",
       "      <td>0</td>\n",
       "      <td>0</td>\n",
       "      <td>0</td>\n",
       "      <td>0</td>\n",
       "      <td>0</td>\n",
       "      <td>0</td>\n",
       "      <td>0</td>\n",
       "      <td>0</td>\n",
       "      <td>0</td>\n",
       "      <td>0</td>\n",
       "      <td>0</td>\n",
       "      <td>0</td>\n",
       "      <td>0</td>\n",
       "      <td>0</td>\n",
       "      <td>0</td>\n",
       "      <td>0</td>\n",
       "      <td>0</td>\n",
       "      <td>0</td>\n",
       "      <td>0</td>\n",
       "      <td>0</td>\n",
       "      <td>0</td>\n",
       "      <td>0</td>\n",
       "      <td>1</td>\n",
       "      <td>1</td>\n",
       "      <td>0</td>\n",
       "      <td>1</td>\n",
       "      <td>0</td>\n",
       "      <td>0</td>\n",
       "      <td>0</td>\n",
       "      <td>0</td>\n",
       "      <td>0</td>\n",
       "      <td>0</td>\n",
       "      <td>0</td>\n",
       "      <td>0</td>\n",
       "    </tr>\n",
       "    <tr>\n",
       "      <th>3</th>\n",
       "      <td>4.1</td>\n",
       "      <td>0</td>\n",
       "      <td>0</td>\n",
       "      <td>0</td>\n",
       "      <td>0</td>\n",
       "      <td>0</td>\n",
       "      <td>0</td>\n",
       "      <td>0</td>\n",
       "      <td>0</td>\n",
       "      <td>0</td>\n",
       "      <td>0</td>\n",
       "      <td>0</td>\n",
       "      <td>0</td>\n",
       "      <td>0</td>\n",
       "      <td>0</td>\n",
       "      <td>0</td>\n",
       "      <td>0</td>\n",
       "      <td>0</td>\n",
       "      <td>0</td>\n",
       "      <td>0</td>\n",
       "      <td>0</td>\n",
       "      <td>0</td>\n",
       "      <td>0</td>\n",
       "      <td>0</td>\n",
       "      <td>0</td>\n",
       "      <td>0</td>\n",
       "      <td>0</td>\n",
       "      <td>0</td>\n",
       "      <td>0</td>\n",
       "      <td>0</td>\n",
       "      <td>0</td>\n",
       "      <td>0</td>\n",
       "      <td>0</td>\n",
       "      <td>0</td>\n",
       "      <td>0</td>\n",
       "      <td>0</td>\n",
       "      <td>0</td>\n",
       "      <td>0</td>\n",
       "      <td>0</td>\n",
       "      <td>0</td>\n",
       "      <td>0</td>\n",
       "      <td>0</td>\n",
       "      <td>0</td>\n",
       "      <td>0</td>\n",
       "      <td>0</td>\n",
       "      <td>0</td>\n",
       "      <td>0</td>\n",
       "      <td>0</td>\n",
       "      <td>0</td>\n",
       "      <td>0</td>\n",
       "      <td>...</td>\n",
       "      <td>0</td>\n",
       "      <td>0</td>\n",
       "      <td>0</td>\n",
       "      <td>0</td>\n",
       "      <td>0</td>\n",
       "      <td>0</td>\n",
       "      <td>0</td>\n",
       "      <td>0</td>\n",
       "      <td>0</td>\n",
       "      <td>0</td>\n",
       "      <td>0</td>\n",
       "      <td>0</td>\n",
       "      <td>0</td>\n",
       "      <td>0</td>\n",
       "      <td>0</td>\n",
       "      <td>0</td>\n",
       "      <td>0</td>\n",
       "      <td>0</td>\n",
       "      <td>0</td>\n",
       "      <td>0</td>\n",
       "      <td>0</td>\n",
       "      <td>0</td>\n",
       "      <td>0</td>\n",
       "      <td>0</td>\n",
       "      <td>0</td>\n",
       "      <td>0</td>\n",
       "      <td>0</td>\n",
       "      <td>0</td>\n",
       "      <td>0</td>\n",
       "      <td>0</td>\n",
       "      <td>0</td>\n",
       "      <td>0</td>\n",
       "      <td>0</td>\n",
       "      <td>0</td>\n",
       "      <td>1</td>\n",
       "      <td>0</td>\n",
       "      <td>0</td>\n",
       "      <td>0</td>\n",
       "      <td>0</td>\n",
       "      <td>0</td>\n",
       "      <td>0</td>\n",
       "      <td>0</td>\n",
       "      <td>0</td>\n",
       "      <td>0</td>\n",
       "      <td>0</td>\n",
       "      <td>0</td>\n",
       "      <td>0</td>\n",
       "      <td>0</td>\n",
       "      <td>0</td>\n",
       "      <td>0</td>\n",
       "    </tr>\n",
       "    <tr>\n",
       "      <th>4</th>\n",
       "      <td>6.6</td>\n",
       "      <td>0</td>\n",
       "      <td>0</td>\n",
       "      <td>0</td>\n",
       "      <td>0</td>\n",
       "      <td>0</td>\n",
       "      <td>0</td>\n",
       "      <td>0</td>\n",
       "      <td>0</td>\n",
       "      <td>0</td>\n",
       "      <td>0</td>\n",
       "      <td>0</td>\n",
       "      <td>0</td>\n",
       "      <td>0</td>\n",
       "      <td>0</td>\n",
       "      <td>0</td>\n",
       "      <td>0</td>\n",
       "      <td>0</td>\n",
       "      <td>0</td>\n",
       "      <td>0</td>\n",
       "      <td>0</td>\n",
       "      <td>0</td>\n",
       "      <td>0</td>\n",
       "      <td>0</td>\n",
       "      <td>0</td>\n",
       "      <td>0</td>\n",
       "      <td>0</td>\n",
       "      <td>0</td>\n",
       "      <td>0</td>\n",
       "      <td>0</td>\n",
       "      <td>0</td>\n",
       "      <td>0</td>\n",
       "      <td>0</td>\n",
       "      <td>0</td>\n",
       "      <td>0</td>\n",
       "      <td>0</td>\n",
       "      <td>0</td>\n",
       "      <td>0</td>\n",
       "      <td>0</td>\n",
       "      <td>0</td>\n",
       "      <td>0</td>\n",
       "      <td>0</td>\n",
       "      <td>0</td>\n",
       "      <td>0</td>\n",
       "      <td>0</td>\n",
       "      <td>0</td>\n",
       "      <td>0</td>\n",
       "      <td>0</td>\n",
       "      <td>0</td>\n",
       "      <td>0</td>\n",
       "      <td>...</td>\n",
       "      <td>0</td>\n",
       "      <td>0</td>\n",
       "      <td>0</td>\n",
       "      <td>0</td>\n",
       "      <td>0</td>\n",
       "      <td>0</td>\n",
       "      <td>0</td>\n",
       "      <td>0</td>\n",
       "      <td>0</td>\n",
       "      <td>0</td>\n",
       "      <td>0</td>\n",
       "      <td>0</td>\n",
       "      <td>0</td>\n",
       "      <td>0</td>\n",
       "      <td>0</td>\n",
       "      <td>0</td>\n",
       "      <td>0</td>\n",
       "      <td>0</td>\n",
       "      <td>0</td>\n",
       "      <td>0</td>\n",
       "      <td>0</td>\n",
       "      <td>0</td>\n",
       "      <td>0</td>\n",
       "      <td>0</td>\n",
       "      <td>0</td>\n",
       "      <td>0</td>\n",
       "      <td>0</td>\n",
       "      <td>0</td>\n",
       "      <td>0</td>\n",
       "      <td>0</td>\n",
       "      <td>0</td>\n",
       "      <td>0</td>\n",
       "      <td>0</td>\n",
       "      <td>0</td>\n",
       "      <td>0</td>\n",
       "      <td>0</td>\n",
       "      <td>0</td>\n",
       "      <td>0</td>\n",
       "      <td>0</td>\n",
       "      <td>0</td>\n",
       "      <td>0</td>\n",
       "      <td>1</td>\n",
       "      <td>0</td>\n",
       "      <td>0</td>\n",
       "      <td>0</td>\n",
       "      <td>0</td>\n",
       "      <td>0</td>\n",
       "      <td>0</td>\n",
       "      <td>0</td>\n",
       "      <td>0</td>\n",
       "    </tr>\n",
       "  </tbody>\n",
       "</table>\n",
       "<p>5 rows × 4827 columns</p>\n",
       "</div>"
      ],
      "text/plain": [
       "   user_ratings  trenton  bartoszyce  brindisi  bad grund  green river  ilulissat  chigasaki  collegeville  wilton manors  sichuan  nottingham  saylorsburg  uithoorn  brantford  roslyn  crete  kassel  tajikistan  zittau  san ignacio  sherman oaks  jaipur  paris  gig harbor  islip  potomac  colorno  geyserville  el campello  las palmas de gran canaria  pushkin  bagalkot  chennai  stanton  puente de ixtla  freudenstadt  wausau  aurora  bryn mawr  folsom  mary esther  bratislava  koprivnica  \\\n",
       "0           4.1        0           0         0          0            0          0          0             0              0        0           0            0         0          0       0      0       0           0       0            0             0       0      0           0      0        0        0            0            0                           0        0         0        0        0                0             0       0       0          0       0            0           0           0   \n",
       "1           5.8        0           0         0          0            0          0          0             0              0        0           0            0         0          0       0      0       0           0       0            0             0       0      0           0      0        0        0            0            0                           0        0         0        0        0                0             0       0       0          0       0            0           0           0   \n",
       "2           5.9        0           0         0          0            0          0          0             0              0        0           0            0         0          0       0      0       0           0       0            0             0       0      0           0      0        0        0            0            0                           0        0         0        0        0                0             0       0       0          0       0            0           0           0   \n",
       "3           4.1        0           0         0          0            0          0          0             0              0        0           0            0         0          0       0      0       0           0       0            0             0       0      0           0      0        0        0            0            0                           0        0         0        0        0                0             0       0       0          0       0            0           0           0   \n",
       "4           6.6        0           0         0          0            0          0          0             0              0        0           0            0         0          0       0      0       0           0       0            0             0       0      0           0      0        0        0            0            0                           0        0         0        0        0                0             0       0       0          0       0            0           0           0   \n",
       "\n",
       "   rapid city  truchas  georgia  jenkintown  roissy-en-france  cape may    ...      deggendorf  kirkwood  harefield  warner springs  vence  whitby  heide  tarrytown  brechin  carcassonne  banff  montrose  baker  makati city  lloret de mar  charenton-le-pont  merthyr tydfil  scotch plains  oeiras  foster city  nuuk  abergele  westfield  bierset  arenys de mar  creuzburg  Sci-Fi  Crime  Romance  Animation  Music  Adult  Comedy  War  Horror  Western  News  Reality-TV  Thriller  Adventure  \\\n",
       "0           0        0        0           0                 0         0    ...               0         0          0               0      0       0      0          0        0            0      0         0      0            0              0                  0               0              0       0            0     0         0          0        0              0          0       0      1        0          0      0      0       0    0       0        0     0           0         0          0   \n",
       "1           0        0        0           0                 0         0    ...               0         0          0               0      0       0      0          0        0            0      0         0      0            0              0                  0               0              0       0            0     0         0          0        0              0          0       0      1        0          0      0      0       1    0       0        0     0           0         0          0   \n",
       "2           0        0        0           0                 0         0    ...               0         0          0               0      0       0      0          0        0            0      0         0      0            0              0                  0               0              0       0            0     0         0          0        0              0          0       0      0        0          0      0      0       0    0       0        0     0           0         1          1   \n",
       "3           0        0        0           0                 0         0    ...               0         0          0               0      0       0      0          0        0            0      0         0      0            0              0                  0               0              0       0            0     0         0          0        0              0          0       0      0        0          0      0      0       0    0       1        0     0           0         0          0   \n",
       "4           0        0        0           0                 0         0    ...               0         0          0               0      0       0      0          0        0            0      0         0      0            0              0                  0               0              0       0            0     0         0          0        0              0          0       0      0        0          0      0      0       0    0       0        0     0           0         0          0   \n",
       "\n",
       "   Mystery  Drama  Action  Musical  History  Family  Fantasy  Game-Show  Sport  Biography  \n",
       "0        0      1       1        0        0       0        0          0      0          0  \n",
       "1        0      0       0        0        0       0        0          0      0          0  \n",
       "2        0      1       0        0        0       0        0          0      0          0  \n",
       "3        0      0       0        0        0       0        0          0      0          0  \n",
       "4        0      1       0        0        0       0        0          0      0          0  \n",
       "\n",
       "[5 rows x 4827 columns]"
      ]
     },
     "execution_count": 14,
     "metadata": {},
     "output_type": "execute_result"
    }
   ],
   "source": [
    "statsdf = pd.DataFrame()\n",
    "statsdf = pd.concat([newdf_boolean_sampled[\"user_ratings\"], Xsampleddf], axis=1)\n",
    "statsdf.head()"
   ]
  },
  {
   "cell_type": "code",
   "execution_count": 15,
   "metadata": {
    "collapsed": false
   },
   "outputs": [
    {
     "data": {
      "text/plain": [
       "5.719843049327349"
      ]
     },
     "execution_count": 15,
     "metadata": {},
     "output_type": "execute_result"
    }
   ],
   "source": [
    "np.mean(statsdf[statsdf[\"usa\"]==1].user_ratings)"
   ]
  },
  {
   "cell_type": "markdown",
   "metadata": {},
   "source": [
    "# 3. Analyses"
   ]
  },
  {
   "cell_type": "markdown",
   "metadata": {},
   "source": [
    "## 3.1. Summary Statistics of Data Set"
   ]
  },
  {
   "cell_type": "markdown",
   "metadata": {},
   "source": [
    "To give a better representation of the data set that we have, we will have some graphical plots of our data, like histograms across countries and genres. The large number of cities appearing in our data means that a histogram across all cities should be avoided. We can still study the frequency of the top few cities. Film reception might also be presented as a barplot.\n",
    "\n",
    "Other visualizations will be done using Tableau. For example, we can present the number of titles per city on a map in Tableau since we have city coordinates from the list of cities acquired."
   ]
  },
  {
   "cell_type": "markdown",
   "metadata": {},
   "source": [
    "We first look at the distribution of user ratings. The shape of the plot looks similar to that of a normal distribution."
   ]
  },
  {
   "cell_type": "code",
   "execution_count": 16,
   "metadata": {
    "collapsed": false
   },
   "outputs": [
    {
     "data": {
      "text/plain": [
       "(-1, 11)"
      ]
     },
     "execution_count": 16,
     "metadata": {},
     "output_type": "execute_result"
    },
    {
     "data": {
      "image/png": "[encoded data removed]",
      "text/plain": [
       "<matplotlib.figure.Figure at 0x106499390>"
      ]
     },
     "metadata": {},
     "output_type": "display_data"
    }
   ],
   "source": [
    "plt.hist(statsdf.user_ratings, color=\"Green\", alpha=0.8)\n",
    "plt.axvline(x=np.mean(statsdf.user_ratings), linewidth=2, color=\"blue\",  label=\"Mean\")\n",
    "plt.title(\"Histogram of User Ratings\")\n",
    "plt.xlabel(\"User Ratings\")\n",
    "plt.ylabel(\"Number of Films\")\n",
    "plt.legend(loc='upper right')\n",
    "plt.xlim([-1,11])"
   ]
  },
  {
   "cell_type": "markdown",
   "metadata": {},
   "source": [
    "Now, we find the top 15 most popular filming locations. Most of these are countries, which is expected since country is a larger subset than city."
   ]
  },
  {
   "cell_type": "code",
   "execution_count": 17,
   "metadata": {
    "collapsed": false
   },
   "outputs": [
    {
     "name": "stdout",
     "output_type": "stream",
     "text": [
      "usa            4460\n",
      "california     1637\n",
      "los angeles    1153\n",
      "new york        742\n",
      "england         657\n",
      "canada          570\n",
      "india           507\n",
      "germany         460\n",
      "france          433\n",
      "london          380\n",
      "italy           334\n",
      "spain           293\n",
      "paris           237\n",
      "ontario         234\n",
      "australia       198\n",
      "dtype: int64\n"
     ]
    },
    {
     "data": {
      "text/plain": [
       "<matplotlib.lines.Line2D at 0x10a913610>"
      ]
     },
     "execution_count": 17,
     "metadata": {},
     "output_type": "execute_result"
    },
    {
     "data": {
      "image/png": "[encoded data removed]",
      "text/plain": [
       "<matplotlib.figure.Figure at 0x106499f50>"
      ]
     },
     "metadata": {},
     "output_type": "display_data"
    }
   ],
   "source": [
    "freq = Xsampleddf[Xsampleddf.columns[:-len(genres3)]].sum(axis=0)\n",
    "sortfreq = freq.sort_values(ascending=False)\n",
    "print sortfreq[0:15]\n",
    "ax=(sortfreq[0:15]).plot('barh', color=sns.color_palette(\"BuGn_d\", 15), alpha=0.9)\n",
    "ax.invert_yaxis()\n",
    "plt.title(\"Top 15 Most Popular Filming Locations\")\n",
    "plt.xlabel(\"Number of Films\")\n",
    "plt.axvline(x=min(sortfreq[0:15]), linewidth=1.5, alpha=0.5, linestyle=\"dashed\", color=\"Black\",  label=\"Minimum\")\n",
    "plt.axvline(x=max(sortfreq[0:15]), linewidth=1.5, alpha=0.5, linestyle=\"dashed\", color=\"Black\",  label=\"Minimum\")"
   ]
  },
  {
   "cell_type": "markdown",
   "metadata": {},
   "source": [
    "We notice that these are mainly locations in the west."
   ]
  },
  {
   "cell_type": "markdown",
   "metadata": {},
   "source": [
    "We are also interested in the average user ratings for these 15 locations."
   ]
  },
  {
   "cell_type": "code",
   "execution_count": 18,
   "metadata": {
    "collapsed": false
   },
   "outputs": [],
   "source": [
    "mean15loc = list()\n",
    "for loc in sortfreq[0:15].index:\n",
    "    mean15loc.append(np.mean(statsdf[statsdf[str(loc)]==1].user_ratings))\n",
    "    "
   ]
  },
  {
   "cell_type": "code",
   "execution_count": 19,
   "metadata": {
    "collapsed": false
   },
   "outputs": [
    {
     "data": {
      "text/plain": [
       "<matplotlib.lines.Line2D at 0x109a99790>"
      ]
     },
     "execution_count": 19,
     "metadata": {},
     "output_type": "execute_result"
    },
    {
     "data": {
      "image/png": "[encoded data removed]",
      "text/plain": [
       "<matplotlib.figure.Figure at 0x1092b5f50>"
      ]
     },
     "metadata": {},
     "output_type": "display_data"
    }
   ],
   "source": [
    "mean15loc_se = pd.Series(mean15loc,sortfreq[0:15].index)\n",
    "mean15loc_se\n",
    "ax=(mean15loc_se).plot('barh', color=sns.color_palette(\"BuGn_d\", 15), alpha=0.9)\n",
    "plt.title(\"Average User Ratings of Top 15 Filming Locations\")\n",
    "plt.xlabel(\"Average User Ratings\")\n",
    "plt.ylabel(\"Locations\")\n",
    "plt.yticks(rotation=15)\n",
    "ax.invert_yaxis()\n",
    "plt.axvline(x=min(mean15loc), linewidth=1.5, alpha=0.5, linestyle=\"dashed\", color=\"Black\",  label=\"Minimum\")\n",
    "plt.axvline(x=max(mean15loc), linewidth=1.5, alpha=0.5, linestyle=\"dashed\", color=\"Black\",  label=\"Minimum\")"
   ]
  },
  {
   "cell_type": "markdown",
   "metadata": {},
   "source": [
    "The average user ratings do not vary much across these locations."
   ]
  },
  {
   "cell_type": "markdown",
   "metadata": {},
   "source": [
    "Next, the top 15 most frequent genres in our sample."
   ]
  },
  {
   "cell_type": "code",
   "execution_count": 20,
   "metadata": {
    "collapsed": false
   },
   "outputs": [
    {
     "name": "stdout",
     "output_type": "stream",
     "text": [
      "Drama        5107\n",
      "Comedy       3048\n",
      "Thriller     1684\n",
      "Horror       1509\n",
      "Action       1170\n",
      "Romance      1168\n",
      "Crime         813\n",
      "Mystery       549\n",
      "Adventure     519\n",
      "Family        431\n",
      "Fantasy       369\n",
      "Biography     204\n",
      "Music         203\n",
      "History       190\n",
      "War           135\n",
      "dtype: int64\n"
     ]
    },
    {
     "data": {
      "text/plain": [
       "<matplotlib.lines.Line2D at 0x109244110>"
      ]
     },
     "execution_count": 20,
     "metadata": {},
     "output_type": "execute_result"
    },
    {
     "data": {
      "image/png": "[encoded data removed]",
      "text/plain": [
       "<matplotlib.figure.Figure at 0x10b7c1950>"
      ]
     },
     "metadata": {},
     "output_type": "display_data"
    }
   ],
   "source": [
    "freq_g = Xsampleddf[Xsampleddf.columns[len(places3)+1:]].sum(axis=0)\n",
    "sortfreq_g = freq_g.sort_values(ascending=False)\n",
    "print sortfreq_g[0:15]\n",
    "ax=(sortfreq_g[0:15]).plot('barh', color=sns.color_palette(\"GnBu_d\", 15), alpha=0.9)\n",
    "ax.invert_yaxis()\n",
    "plt.title(\"Top 15 Genres\")\n",
    "plt.xlabel(\"Number of Films\")\n",
    "plt.axvline(x=min(sortfreq_g[0:15]), linewidth=1.5, alpha=0.5, linestyle=\"dashed\", color=\"Black\",  label=\"Minimum\")\n",
    "plt.axvline(x=max(sortfreq_g[0:15]), linewidth=1.5, alpha=0.5, linestyle=\"dashed\", color=\"Black\",  label=\"Minimum\")"
   ]
  },
  {
   "cell_type": "markdown",
   "metadata": {},
   "source": [
    "Drama and comedy seems to be the most frequent genres in our data set."
   ]
  },
  {
   "cell_type": "markdown",
   "metadata": {},
   "source": [
    "And the average user ratings for these 15 genres."
   ]
  },
  {
   "cell_type": "code",
   "execution_count": 21,
   "metadata": {
    "collapsed": true
   },
   "outputs": [],
   "source": [
    "mean15gen = list()\n",
    "for gen in sortfreq_g[0:15].index:\n",
    "    mean15gen.append(np.mean(statsdf[statsdf[str(gen)]==1].user_ratings))"
   ]
  },
  {
   "cell_type": "code",
   "execution_count": 22,
   "metadata": {
    "collapsed": false
   },
   "outputs": [
    {
     "data": {
      "text/plain": [
       "<matplotlib.lines.Line2D at 0x10f6f92d0>"
      ]
     },
     "execution_count": 22,
     "metadata": {},
     "output_type": "execute_result"
    },
    {
     "data": {
      "image/png": "[encoded data removed]",
      "text/plain": [
       "<matplotlib.figure.Figure at 0x10f6d5b90>"
      ]
     },
     "metadata": {},
     "output_type": "display_data"
    }
   ],
   "source": [
    "mean15gen_se = pd.Series(mean15gen,sortfreq_g[0:15].index)\n",
    "mean15gen_se\n",
    "ax=(mean15gen_se).plot('barh', color=sns.color_palette(\"GnBu_d\", 15), alpha=0.9)\n",
    "plt.title(\"Average User Ratings of Top 15 Genres\")\n",
    "plt.xlabel(\"Average User Ratings\")\n",
    "plt.ylabel(\"Genres\")\n",
    "plt.yticks(rotation=15)\n",
    "ax.invert_yaxis()\n",
    "plt.axvline(x=min(mean15gen), linewidth=1.5, alpha=0.5, linestyle=\"dashed\", color=\"Black\",  label=\"Minimum\")\n",
    "plt.axvline(x=max(mean15gen), linewidth=1.5, alpha=0.5, linestyle=\"dashed\", color=\"Black\",  label=\"Minimum\")"
   ]
  },
  {
   "cell_type": "markdown",
   "metadata": {},
   "source": [
    "There is greater variation in average user ratings across genres."
   ]
  },
  {
   "cell_type": "markdown",
   "metadata": {},
   "source": [
    "## 3.2. Linear Regression"
   ]
  },
  {
   "cell_type": "markdown",
   "metadata": {},
   "source": [
    "#### Tobit Censored Regression Model"
   ]
  },
  {
   "cell_type": "markdown",
   "metadata": {},
   "source": [
    "Before performing the linear regression, it should be highlighted that because user ratings only fall within the range from \"0\" to \"10\", there is another regression model much more suited to estimating these relationships between user ratings and the features. That is the Tobit Censored Regression Model."
   ]
  },
  {
   "cell_type": "markdown",
   "metadata": {},
   "source": [
    "With Tobit, We denote $Y^*$= Latent Variable for User Ratings, $Y$= User Ratings, $L_l$ = Dummy Variable for Location $l$ and $G_g$ = Dummy Variable for Genre $g$. We estimate the following regression equation:\n",
    "\n",
    "$$Y^*_i=\\beta_0+\\delta_1 L_{1i}+\\delta_2 L_{2i}+...+\\delta_C L_{Ci}+\\gamma_1 G_{1i} + \\gamma_2 G_{2i}+...+\\gamma_G G_{Gi} + U_i$$\n",
    "\n",
    "$$Y_i = [0,10]$$\n",
    "\n",
    "where $\\beta_0$ is the intercept parameter, $\\delta_c$ are the slope parameters for the locations, $\\gamma_g$ are the slope parameters for the genres and $U$ is the error term. $Y^*_i$, the latent variable, can take any value based on the equation. On the other hand, $Y_i$ can only take values between \"0\" and \"10\".\n",
    "\n",
    "From the histogram of user ratings we plotted earlier, we know that the distribution of user ratings has the same shape as a normal distribution. Given the large data size, we can also assume $U$ ~ $N(0, \\sigma^2)$, lending credence to our gaussian assumption. The mechanics behind this regression are represented by the equations:\n",
    "\n",
    "$$P(y=0|x) = 1 - \\Phi(\\frac{x\\beta}{\\sigma})$$\n",
    "\n",
    "$$f(y|x) = \\frac{1}{\\sqrt{2\\pi\\sigma^2}}exp(-\\frac{(y-x\\beta)^2}{2\\sigma^2})$$\n",
    "\n",
    "$$P(y=10|x) = 1 - \\Phi(\\frac{10-x\\beta}{\\sigma})$$\n",
    "\n",
    "where $x\\beta$ denotes $\\beta_0+\\delta_1 L_{1i}+\\delta_2 L_{2i}+...+\\delta_C L_{Ci}+\\gamma_1 G_{1i} + \\gamma_2 G_{2i}+...+\\gamma_G G_{Gi}$ and $\\Phi$ is the standard normal probability function. These equations give us the probability of $y$ being \"0\" or \"10\" and the density function of $y$ for values between \"0\" and \"10\", given $x$.\n",
    "\n",
    "However, we avoided the use of this model as the coefficients do not have direct and simple interpretations. Interpreting the partial effects is also problematic given that one can take the average partial effect (APE) or partial effect at the average (PEA). In addition, Statsmodel does not currently have a working Tobit model. Instead, it was recommended that Tobit be run on R first and the results imported. To avoid these complications, we chose to perform a linear regression model for its simplicity and direct interpretability of the coefficients."
   ]
  },
  {
   "cell_type": "markdown",
   "metadata": {},
   "source": [
    "#### Linear Regression"
   ]
  },
  {
   "cell_type": "markdown",
   "metadata": {},
   "source": [
    "We begin by performing a linear regression of user ratings on the dummy variables for each location and genre. We do this so as to obtain easily interpretable coefficients of each feature. \n",
    "\n",
    "We wish to study the effects of locations and genre on user ratings. We denote $Y$= User Ratings, $L_l$ = Dummy Variable for Location $l$, $G_g$ = Dummy Variable for Genre $g$.\n",
    "\n",
    "Our regression equation takes the following form:\n",
    "\n",
    "$$Y_i=\\beta_0+\\delta_1 L_{1i}+\\delta_2 L_{2i}+...+\\delta_C L_{Ci}+\\gamma_1 G_{1i} + \\gamma_2 G_{2i}+...+\\gamma_G G_{Gi}+U_i$$\n",
    "\n",
    "where $\\beta_0$ is the intercept parameter, $\\delta_c$ are the slope parameters for the locations, $\\gamma_g$ are the slope parameters for the genres and $U$ is the error term."
   ]
  },
  {
   "cell_type": "markdown",
   "metadata": {},
   "source": [
    "First, we split the data of user ratings, locations and genres into train and test data."
   ]
  },
  {
   "cell_type": "code",
   "execution_count": 23,
   "metadata": {
    "collapsed": true
   },
   "outputs": [],
   "source": [
    "from sklearn.cross_validation import train_test_split\n",
    "Xtrainl, Xtestl, ytrainl, ytestl = train_test_split(Xsampleddf, statsdf[\"user_ratings\"], train_size=0.75, random_state=1)"
   ]
  },
  {
   "cell_type": "code",
   "execution_count": 24,
   "metadata": {
    "collapsed": true
   },
   "outputs": [],
   "source": [
    "model = sm.OLS(ytrainl, Xtrainl)\n",
    "results = model.fit()"
   ]
  },
  {
   "cell_type": "markdown",
   "metadata": {},
   "source": [
    "These are the features with coefficients that are statistically significant."
   ]
  },
  {
   "cell_type": "code",
   "execution_count": 25,
   "metadata": {
    "collapsed": false
   },
   "outputs": [
    {
     "data": {
      "text/plain": [
       "jaipur          0.031044\n",
       "chennai         0.005808\n",
       "freudenstadt    0.034341\n",
       "georgia         0.001751\n",
       "ashford         0.019894\n",
       "dtype: float64"
      ]
     },
     "execution_count": 25,
     "metadata": {},
     "output_type": "execute_result"
    }
   ],
   "source": [
    "results.pvalues[results.pvalues<0.05].head()"
   ]
  },
  {
   "cell_type": "markdown",
   "metadata": {},
   "source": [
    "These are the coefficients. Note the absurdity that some features increase user ratings by more than 10 points."
   ]
  },
  {
   "cell_type": "code",
   "execution_count": 26,
   "metadata": {
    "collapsed": false
   },
   "outputs": [
    {
     "data": {
      "text/plain": [
       "loos            24.957358\n",
       "szentendre      17.459086\n",
       "biella          14.659172\n",
       "mallaig         13.557582\n",
       "fort william    13.191840\n",
       "dtype: float64"
      ]
     },
     "execution_count": 26,
     "metadata": {},
     "output_type": "execute_result"
    }
   ],
   "source": [
    "results.params[results.pvalues<0.05].sort_values(ascending=False).head()"
   ]
  },
  {
   "cell_type": "markdown",
   "metadata": {},
   "source": [
    "Coefficient plots of the top 15 most popular locations"
   ]
  },
  {
   "cell_type": "code",
   "execution_count": 27,
   "metadata": {
    "collapsed": false
   },
   "outputs": [],
   "source": [
    "deslocs = sortfreq.sort_values(ascending=True)[-15::]"
   ]
  },
  {
   "cell_type": "code",
   "execution_count": 28,
   "metadata": {
    "collapsed": false
   },
   "outputs": [
    {
     "name": "stdout",
     "output_type": "stream",
     "text": [
      "Index([u'australia', u'ontario', u'paris', u'spain', u'italy', u'london', u'france', u'germany', u'india', u'canada', u'england', u'new york', u'los angeles', u'california', u'usa'], dtype='object')\n"
     ]
    }
   ],
   "source": [
    "print deslocs.index"
   ]
  },
  {
   "cell_type": "code",
   "execution_count": 29,
   "metadata": {
    "collapsed": false
   },
   "outputs": [
    {
     "data": {
      "text/plain": [
       "australia      0.380069\n",
       "ontario        0.442441\n",
       "paris          0.325786\n",
       "spain          0.301113\n",
       "italy          0.375365\n",
       "london         0.313169\n",
       "france         0.262132\n",
       "germany        0.273910\n",
       "india          0.192393\n",
       "canada         0.227955\n",
       "england        0.294713\n",
       "new york       0.165300\n",
       "los angeles    0.179086\n",
       "california     0.200147\n",
       "usa            0.147117\n",
       "dtype: float64"
      ]
     },
     "execution_count": 29,
     "metadata": {},
     "output_type": "execute_result"
    }
   ],
   "source": [
    "#Standard error for errorbars\n",
    "xerr = results.bse[deslocs.index]\n",
    "xerr"
   ]
  },
  {
   "cell_type": "code",
   "execution_count": 30,
   "metadata": {
    "collapsed": false
   },
   "outputs": [
    {
     "data": {
      "text/plain": [
       "australia      3.426557\n",
       "ontario        0.814143\n",
       "paris         -0.457335\n",
       "spain          2.521508\n",
       "italy          0.388783\n",
       "london        -0.768146\n",
       "france         2.059562\n",
       "germany        2.065136\n",
       "india          2.925547\n",
       "canada         2.599395\n",
       "england        3.138369\n",
       "new york      -0.567140\n",
       "los angeles   -0.015699\n",
       "california    -0.277162\n",
       "usa            3.374355\n",
       "dtype: float64"
      ]
     },
     "execution_count": 30,
     "metadata": {},
     "output_type": "execute_result"
    }
   ],
   "source": [
    "#Coefficients\n",
    "top15loc = results.params[deslocs.index]\n",
    "top15loc"
   ]
  },
  {
   "cell_type": "code",
   "execution_count": 31,
   "metadata": {
    "collapsed": false,
    "scrolled": false
   },
   "outputs": [
    {
     "data": {
      "text/plain": [
       "<matplotlib.lines.Line2D at 0x109594110>"
      ]
     },
     "execution_count": 31,
     "metadata": {},
     "output_type": "execute_result"
    },
    {
     "name": "stderr",
     "output_type": "stream",
     "text": [
      "/Users/Filbert/anaconda/lib/python2.7/site-packages/matplotlib/collections.py:590: FutureWarning: elementwise comparison failed; returning scalar instead, but in the future will perform elementwise comparison\n",
      "  if self._edgecolors == str('face'):\n"
     ]
    },
    {
     "data": {
      "image/png": "[encoded data removed]",
      "text/plain": [
       "<matplotlib.figure.Figure at 0x10f286250>"
      ]
     },
     "metadata": {},
     "output_type": "display_data"
    }
   ],
   "source": [
    "yaxis_loc = np.linspace(1,len(top15loc),len(top15loc))\n",
    "plt.scatter(top15loc,yaxis_loc, s=75, marker=\"D\")\n",
    "plt.errorbar(top15loc, yaxis_loc,xerr=xerr, linestyle=\"None\",elinewidth=2, capthick=2, capsize=10,c=\"red\")\n",
    "plt.title('Coefficient Plot of Locations')\n",
    "plt.xlabel('Coefficient Estimates')\n",
    "plt.ylabel('Top 15 Locations')\n",
    "plt.yticks(yaxis_loc,top15loc.index)\n",
    "plt.yticks(rotation=20)\n",
    "plt.axvline(x=0, linewidth=1.5, color=\"black\")"
   ]
  },
  {
   "cell_type": "markdown",
   "metadata": {},
   "source": [
    "Suppose we look at USA, our models estimates that filming a movie in USA is predicted to raise user ratings by 3.37 points, everything else constant. On the other hand, filming a movie in London is predicted to reduce user ratings by 0.77 points. The effect of filming in Los Angeles seems to be statistically insignificant."
   ]
  },
  {
   "cell_type": "markdown",
   "metadata": {},
   "source": [
    "Coefficient plots of the top 15 most popular genres."
   ]
  },
  {
   "cell_type": "code",
   "execution_count": 32,
   "metadata": {
    "collapsed": true
   },
   "outputs": [],
   "source": [
    "desgen = sortfreq_g.sort_values(ascending=True)[-15::]"
   ]
  },
  {
   "cell_type": "code",
   "execution_count": 33,
   "metadata": {
    "collapsed": false
   },
   "outputs": [
    {
     "name": "stdout",
     "output_type": "stream",
     "text": [
      "Index([u'War', u'History', u'Music', u'Biography', u'Fantasy', u'Family', u'Adventure', u'Mystery', u'Crime', u'Romance', u'Action', u'Horror', u'Thriller', u'Comedy', u'Drama'], dtype='object')\n"
     ]
    }
   ],
   "source": [
    "print desgen.index"
   ]
  },
  {
   "cell_type": "code",
   "execution_count": 34,
   "metadata": {
    "collapsed": false
   },
   "outputs": [
    {
     "data": {
      "text/plain": [
       "War          0.301337\n",
       "History      0.239929\n",
       "Music        0.197332\n",
       "Biography    0.261228\n",
       "Fantasy      0.162765\n",
       "Family       0.159836\n",
       "Adventure    0.155442\n",
       "Mystery      0.135940\n",
       "Crime        0.115702\n",
       "Romance      0.094690\n",
       "Action       0.098749\n",
       "Horror       0.095951\n",
       "Thriller     0.088419\n",
       "Comedy       0.071284\n",
       "Drama        0.063693\n",
       "dtype: float64"
      ]
     },
     "execution_count": 34,
     "metadata": {},
     "output_type": "execute_result"
    }
   ],
   "source": [
    "xerr_genre = results.bse[desgen.index]\n",
    "xerr_genre"
   ]
  },
  {
   "cell_type": "code",
   "execution_count": 35,
   "metadata": {
    "collapsed": false
   },
   "outputs": [
    {
     "data": {
      "text/plain": [
       "War          0.098037\n",
       "History      0.655510\n",
       "Music        0.609088\n",
       "Biography    0.320755\n",
       "Fantasy      0.793675\n",
       "Family       1.170839\n",
       "Adventure    0.357039\n",
       "Mystery      0.568049\n",
       "Crime        0.506427\n",
       "Romance      0.398571\n",
       "Action       0.371962\n",
       "Horror       0.524921\n",
       "Thriller     1.079685\n",
       "Comedy       1.833836\n",
       "Drama        2.207334\n",
       "dtype: float64"
      ]
     },
     "execution_count": 35,
     "metadata": {},
     "output_type": "execute_result"
    }
   ],
   "source": [
    "top15genre = results.params[desgen.index]\n",
    "top15genre"
   ]
  },
  {
   "cell_type": "code",
   "execution_count": 36,
   "metadata": {
    "collapsed": false
   },
   "outputs": [
    {
     "data": {
      "text/plain": [
       "<matplotlib.lines.Line2D at 0x10a941710>"
      ]
     },
     "execution_count": 36,
     "metadata": {},
     "output_type": "execute_result"
    },
    {
     "data": {
      "image/png": "[encoded data removed]",
      "text/plain": [
       "<matplotlib.figure.Figure at 0x1064ce050>"
      ]
     },
     "metadata": {},
     "output_type": "display_data"
    }
   ],
   "source": [
    "yaxis_genre = np.linspace(1,len(top15genre),len(top15genre))\n",
    "plt.scatter(top15genre, yaxis_genre, s=75, marker=\"D\")\n",
    "plt.errorbar(top15genre,yaxis_genre,xerr=xerr_genre, linestyle=\"None\",elinewidth=2, capthick=2, capsize=10,c=\"red\")\n",
    "plt.title('Coefficient Plot of Genres')\n",
    "plt.xlabel('Coefficient Estimates')\n",
    "plt.ylabel('Top 15 Genres')\n",
    "plt.yticks(yaxis_genre, top15genre.index )\n",
    "plt.yticks(rotation=20)\n",
    "plt.axvline(x=0, linewidth=1.5, color=\"black\")"
   ]
  },
  {
   "cell_type": "markdown",
   "metadata": {},
   "source": [
    "Similarly here, a drama is predicted to be 2.20 points higher in user ratings than a non-drama film, keeping everything constant. Being a war film does not seem to have any statistically significant effect on user ratings."
   ]
  },
  {
   "cell_type": "markdown",
   "metadata": {},
   "source": [
    "We refit the model using only statistically significant features and predict user ratings using our test data."
   ]
  },
  {
   "cell_type": "code",
   "execution_count": 37,
   "metadata": {
    "collapsed": false,
    "scrolled": true
   },
   "outputs": [],
   "source": [
    "model2 = sm.OLS(ytrainl, Xtrainl[results.pvalues[results.pvalues<0.05].index])\n",
    "results2 = model2.fit()"
   ]
  },
  {
   "cell_type": "code",
   "execution_count": 38,
   "metadata": {
    "collapsed": false
   },
   "outputs": [
    {
     "name": "stdout",
     "output_type": "stream",
     "text": [
      "                            OLS Regression Results                            \n",
      "==============================================================================\n",
      "Dep. Variable:           user_ratings   R-squared:                       0.891\n",
      "Model:                            OLS   Adj. R-squared:                  0.887\n",
      "Method:                 Least Squares   F-statistic:                     214.2\n",
      "Date:                Wed, 09 Dec 2015   Prob (F-statistic):               0.00\n",
      "Time:                        21:01:55   Log-Likelihood:                -15739.\n",
      "No. Observations:                7500   AIC:                         3.203e+04\n",
      "Df Residuals:                    7225   BIC:                         3.393e+04\n",
      "Df Model:                         275                                         \n",
      "Covariance Type:            nonrobust                                         \n",
      "========================================================================================\n",
      "                           coef    std err          t      P>|t|      [95.0% Conf. Int.]\n",
      "----------------------------------------------------------------------------------------\n",
      "jaipur                  -2.2335      0.919     -2.430      0.015        -4.035    -0.432\n",
      "chennai                 -0.8456      0.471     -1.795      0.073        -1.769     0.078\n",
      "freudenstadt             4.1285      2.019      2.045      0.041         0.171     8.086\n",
      "georgia                  0.5602      0.383      1.462      0.144        -0.191     1.311\n",
      "ashford                 -4.6174      2.016     -2.290      0.022        -8.569    -0.665\n",
      "china                    2.0129      0.200     10.054      0.000         1.620     2.405\n",
      "cobble hill             -8.3634      2.141     -3.906      0.000       -12.560    -4.166\n",
      "turin                    4.3154      1.504      2.869      0.004         1.366     7.264\n",
      "berlin                   0.2781      0.226      1.228      0.220        -0.166     0.722\n",
      "ahmedabad                1.6988      0.909      1.869      0.062        -0.083     3.481\n",
      "india                    2.1387      0.127     16.871      0.000         1.890     2.387\n",
      "burghausen               6.4534      2.867      2.251      0.024         0.834    12.073\n",
      "london                  -0.9709      0.188     -5.170      0.000        -1.339    -0.603\n",
      "wales                    1.6107      0.371      4.346      0.000         0.884     2.337\n",
      "treviso                 -5.4337      2.022     -2.687      0.007        -9.398    -1.470\n",
      "detroit                 -0.3045      0.304     -1.003      0.316        -0.900     0.291\n",
      "milan                    0.8965      0.501      1.789      0.074        -0.086     1.879\n",
      "veracruz                 2.8081      0.925      3.036      0.002         0.995     4.621\n",
      "moldova                  3.1154      1.011      3.080      0.002         1.133     5.098\n",
      "kiev                    -0.7593      0.860     -0.883      0.377        -2.444     0.926\n",
      "venezuela                2.1262      0.561      3.791      0.000         1.027     3.226\n",
      "agra                     4.4323      2.211      2.004      0.045         0.097     8.767\n",
      "longchamps               4.4168      2.022      2.184      0.029         0.453     8.381\n",
      "drogheda                -7.0027      2.067     -3.388      0.001       -11.055    -2.951\n",
      "shillong                 3.7601      2.015      1.866      0.062        -0.191     7.711\n",
      "iceland                  1.7311      0.454      3.813      0.000         0.841     2.621\n",
      "germany                  2.0155      0.145     13.853      0.000         1.730     2.301\n",
      "hungary                  1.2054      0.325      3.704      0.000         0.567     1.843\n",
      "guatemala                2.8326      1.198      2.364      0.018         0.483     5.182\n",
      "agrigento               -0.2835      1.427     -0.199      0.843        -3.080     2.513\n",
      "brazil                   2.1242      0.245      8.675      0.000         1.644     2.604\n",
      "united arab emirates     0.7832      0.435      1.800      0.072        -0.070     1.636\n",
      "belfast                  2.4356      0.714      3.411      0.001         1.036     3.835\n",
      "tuzla                    3.4285      2.017      1.700      0.089        -0.526     7.383\n",
      "dora                    -4.2435      2.039     -2.081      0.037        -8.241    -0.247\n",
      "mallaig                  3.3520      2.230      1.503      0.133        -1.019     7.723\n",
      "chile                    0.8897      0.467      1.906      0.057        -0.026     1.805\n",
      "stillwater              -1.6549      1.013     -1.633      0.103        -3.642     0.332\n",
      "des moines               1.0949      0.761      1.438      0.150        -0.397     2.587\n",
      "mexico                   1.2049      0.251      4.796      0.000         0.712     1.697\n",
      "slovenia                -2.2796      0.855     -2.665      0.008        -3.956    -0.603\n",
      "mestre                   7.2814      2.855      2.551      0.011         1.685    12.878\n",
      "ottappalam              -3.3872      1.429     -2.371      0.018        -6.188    -0.587\n",
      "rome                     1.5454      0.234      6.609      0.000         1.087     2.004\n",
      "roma                     2.3788      0.561      4.237      0.000         1.278     3.479\n",
      "mclean                  -6.6515      2.074     -3.207      0.001       -10.717    -2.586\n",
      "birmingham               1.3719      0.586      2.340      0.019         0.222     2.521\n",
      "biella                   2.6711      1.669      1.600      0.110        -0.601     5.943\n",
      "barga                   -2.8211      2.083     -1.354      0.176        -6.904     1.262\n",
      "momence                 -1.9899      2.035     -0.978      0.328        -5.979     1.999\n",
      "burnaby                 -1.5684      0.687     -2.282      0.023        -2.915    -0.221\n",
      "malaysia                 1.9424      0.348      5.582      0.000         1.260     2.625\n",
      "bangalore                1.6124      0.597      2.702      0.007         0.443     2.782\n",
      "amsterdam                0.8586      0.394      2.177      0.030         0.085     1.632\n",
      "south korea              2.4526      0.323      7.603      0.000         1.820     3.085\n",
      "bolivia                  2.7068      0.693      3.904      0.000         1.348     4.066\n",
      "estonia                  1.5994      0.589      2.718      0.007         0.446     2.753\n",
      "south africa             2.2676      0.257      8.817      0.000         1.763     2.772\n",
      "pattaya                  2.4615      1.197      2.056      0.040         0.114     4.809\n",
      "fort atkinson            4.2456      2.012      2.110      0.035         0.301     8.191\n",
      "messina                  5.9399      2.012      2.952      0.003         1.996     9.884\n",
      "zuberec                  3.9612      2.011      1.970      0.049         0.019     7.903\n",
      "sonora                   2.4627      0.915      2.691      0.007         0.669     4.256\n",
      "philippines              2.3741      0.233     10.202      0.000         1.918     2.830\n",
      "grindelwald             -5.1261      2.051     -2.499      0.012        -9.146    -1.106\n",
      "coahuila                -0.4919      1.437     -0.342      0.732        -3.309     2.325\n",
      "afghanistan              1.5757      0.832      1.893      0.058        -0.056     3.207\n",
      "lhasa                   -8.5773      2.340     -3.665      0.000       -13.165    -3.990\n",
      "mauritius                2.6610      1.423      1.870      0.062        -0.129     5.451\n",
      "fujairah                -4.6424      2.127     -2.182      0.029        -8.813    -0.472\n",
      "france                   1.8635      0.121     15.339      0.000         1.625     2.102\n",
      "brescia                  6.5007      2.011      3.232      0.001         2.558    10.443\n",
      "naarden                  4.1943      1.437      2.919      0.004         1.378     7.011\n",
      "jamshedpur               3.5225      2.014      1.749      0.080        -0.426     7.471\n",
      "acapulco                -3.2221      1.028     -3.134      0.002        -5.238    -1.207\n",
      "sault ste. marie        -3.1582      1.450     -2.179      0.029        -6.000    -0.317\n",
      "tbilisi                  2.6755      0.663      4.035      0.000         1.376     3.975\n",
      "ronda                   -5.3990      2.050     -2.633      0.008        -9.418    -1.380\n",
      "thane                    4.6405      2.018      2.300      0.021         0.685     8.595\n",
      "norway                   2.4009      0.318      7.549      0.000         1.777     3.024\n",
      "sri lanka                2.2145      0.682      3.249      0.001         0.878     3.551\n",
      "cairo                    1.5543      0.570      2.728      0.006         0.437     2.671\n",
      "canada                   2.2543      0.107     21.113      0.000         2.045     2.464\n",
      "romania                  2.6874      0.227     11.814      0.000         2.241     3.133\n",
      "moscow                  -2.0284      0.463     -4.379      0.000        -2.936    -1.120\n",
      "teaneck                 -1.3403      1.008     -1.329      0.184        -3.317     0.636\n",
      "beaune                  -4.8920      2.066     -2.368      0.018        -8.941    -0.843\n",
      "russia                   2.5682      0.345      7.450      0.000         1.892     3.244\n",
      "reno                    -1.9151      0.767     -2.495      0.013        -3.419    -0.411\n",
      "castor                   2.9013      2.013      1.441      0.150        -1.045     6.848\n",
      "santiago                 1.9186      0.613      3.131      0.002         0.717     3.120\n",
      "molise                   3.3656      1.162      2.897      0.004         1.088     5.643\n",
      "lumby                    4.1546      2.124      1.956      0.050        -0.008     8.318\n",
      "soho                     1.1815      0.644      1.833      0.067        -0.082     2.445\n",
      "luxor                   -4.6321      1.261     -3.673      0.000        -7.104    -2.160\n",
      "bulgaria                 1.5183      0.294      5.170      0.000         0.943     2.094\n",
      "japan                    2.9256      0.180     16.227      0.000         2.572     3.279\n",
      "udaipur                  5.0012      2.015      2.482      0.013         1.050     8.952\n",
      "forest park             -3.7585      2.028     -1.853      0.064        -7.735     0.218\n",
      "pakistan                 1.9903      0.584      3.409      0.001         0.846     3.135\n",
      "doune                    2.7491      2.357      1.166      0.244        -1.872     7.370\n",
      "turkey                   2.0256      0.218      9.282      0.000         1.598     2.453\n",
      "cecina                  -5.6397      2.861     -1.971      0.049       -11.248    -0.031\n",
      "catania                  3.1509      1.423      2.215      0.027         0.362     5.940\n",
      "faridkot                 3.9392      2.019      1.951      0.051        -0.018     7.896\n",
      "hamm                    -5.2257      2.038     -2.564      0.010        -9.221    -1.230\n",
      "torrey                  -4.7183      2.029     -2.326      0.020        -8.695    -0.741\n",
      "ethiopia                 4.7801      2.036      2.348      0.019         0.790     8.770\n",
      "valdobbiadene            9.6472      2.879      3.350      0.001         4.003    15.292\n",
      "singapore                1.5744      0.514      3.064      0.002         0.567     2.582\n",
      "nagpur                  -1.8283      1.432     -1.277      0.202        -4.635     0.978\n",
      "hermosa beach            4.2469      2.011      2.112      0.035         0.304     8.189\n",
      "cherepovets              3.0214      2.035      1.484      0.138        -0.968     7.011\n",
      "barbados                 3.3343      1.162      2.870      0.004         1.057     5.611\n",
      "mymensingh               5.6429      2.084      2.708      0.007         1.557     9.728\n",
      "aldenhoven              -5.6434      2.113     -2.671      0.008        -9.785    -1.501\n",
      "la florida               4.1715      2.064      2.021      0.043         0.126     8.217\n",
      "squamish                -1.8579      1.016     -1.828      0.068        -3.850     0.134\n",
      "manali                  -3.3604      1.429     -2.352      0.019        -6.161    -0.560\n",
      "luxembourg               1.2460      0.449      2.778      0.005         0.367     2.125\n",
      "kars                    -4.2675      2.080     -2.052      0.040        -8.344    -0.191\n",
      "thailand                 1.5732      0.237      6.632      0.000         1.108     2.038\n",
      "bensberg                 3.7570      2.016      1.863      0.062        -0.196     7.710\n",
      "osaka                   -8.3049      1.191     -6.972      0.000       -10.640    -5.970\n",
      "naples                   1.0520      0.494      2.127      0.033         0.083     2.021\n",
      "tarzana                  0.6289      1.080      0.582      0.560        -1.489     2.746\n",
      "lambeth                  3.1541      0.724      4.358      0.000         1.735     4.573\n",
      "vietnam                  2.4692      0.520      4.747      0.000         1.450     3.489\n",
      "durango                  1.3404      1.173      1.143      0.253        -0.959     3.640\n",
      "rwanda                   1.6577      1.010      1.641      0.101        -0.323     3.639\n",
      "finksburg               -2.9294      2.014     -1.454      0.146        -6.878     1.019\n",
      "hilversum               -4.3267      1.566     -2.764      0.006        -7.396    -1.258\n",
      "warrenton               -2.3245      1.214     -1.914      0.056        -4.705     0.056\n",
      "darlinghurst            -5.2282      2.019     -2.590      0.010        -9.185    -1.271\n",
      "iran                     3.1342      0.405      7.731      0.000         2.340     3.929\n",
      "taitung                 -5.5072      2.063     -2.670      0.008        -9.551    -1.464\n",
      "iraq                     3.0595      1.008      3.035      0.002         1.083     5.036\n",
      "chongqing               -3.8459      2.029     -1.895      0.058        -7.823     0.132\n",
      "salento                  3.9309      1.422      2.764      0.006         1.143     6.719\n",
      "new zealand              2.8750      0.348      8.263      0.000         2.193     3.557\n",
      "florence                 2.1706      0.770      2.821      0.005         0.662     3.679\n",
      "israel                   1.3208      0.375      3.527      0.000         0.587     2.055\n",
      "inverness               -9.0662      2.946     -3.078      0.002       -14.841    -3.292\n",
      "long beach              -0.9442      0.448     -2.109      0.035        -1.822    -0.066\n",
      "kenya                    1.2424      0.553      2.248      0.025         0.159     2.326\n",
      "arrochar                 1.8346      2.234      0.821      0.411        -2.544     6.213\n",
      "argentina                2.2776      0.189     12.082      0.000         1.908     2.647\n",
      "porto                   -1.9084      0.917     -2.080      0.038        -3.707    -0.110\n",
      "england                  2.8369      0.146     19.415      0.000         2.550     3.123\n",
      "pawnee                   3.6254      1.747      2.076      0.038         0.201     7.050\n",
      "monaco                   2.4530      1.434      1.711      0.087        -0.357     5.263\n",
      "nepal                    2.9199      0.765      3.815      0.000         1.420     4.420\n",
      "alajuelita               7.0379      2.186      3.220      0.001         2.754    11.322\n",
      "colombia                 1.9699      0.376      5.240      0.000         1.233     2.707\n",
      "mardin                  -2.7459      1.453     -1.890      0.059        -5.595     0.103\n",
      "nigeria                  3.7344      0.712      5.245      0.000         2.339     5.130\n",
      "piedmont                -2.6088      1.515     -1.722      0.085        -5.578     0.360\n",
      "smithers              5.504e-15    3.5e-15      1.572      0.116     -1.36e-15  1.24e-14\n",
      "wolfsburg               -6.7206      2.098     -3.204      0.001       -10.833    -2.608\n",
      "jordan                   1.5003      0.533      2.815      0.005         0.456     2.545\n",
      "regensburg              -4.1737      2.152     -1.939      0.053        -8.393     0.046\n",
      "andheri                 -3.3543      1.434     -2.340      0.019        -6.165    -0.544\n",
      "scotland                 1.8465      0.337      5.474      0.000         1.185     2.508\n",
      "brooklyn                 0.5622      0.219      2.569      0.010         0.133     0.991\n",
      "villach                 -0.8663      2.056     -0.421      0.673        -4.896     3.163\n",
      "dingwall                 1.8243      2.234      0.817      0.414        -2.555     6.203\n",
      "rotterdam                2.2744      0.770      2.954      0.003         0.765     3.784\n",
      "new westminster          5.0923      2.128      2.393      0.017         0.922     9.263\n",
      "horsens                  4.5612      2.011      2.268      0.023         0.619     8.503\n",
      "stirling                -2.3338      1.257     -1.857      0.063        -4.797     0.130\n",
      "croatia                  2.1314      0.413      5.163      0.000         1.322     2.941\n",
      "switzerland              0.9511      0.298      3.193      0.001         0.367     1.535\n",
      "colorado springs        -1.3894      1.162     -1.196      0.232        -3.667     0.888\n",
      "pisa                     4.8007      2.011      2.387      0.017         0.858     8.743\n",
      "solo                  4.476e-15   2.67e-15      1.677      0.094     -7.57e-16  9.71e-15\n",
      "czech republic           1.2716      0.298      4.263      0.000         0.687     1.856\n",
      "guangxi               4.702e-15   2.39e-15      1.969      0.049         2e-17  9.38e-15\n",
      "ireland                  2.5254      0.258      9.802      0.000         2.020     3.031\n",
      "loos                    17.6026      3.087      5.702      0.000        11.551    23.655\n",
      "portugal                 2.6737      0.306      8.729      0.000         2.073     3.274\n",
      "mexico city              1.5313      0.376      4.068      0.000         0.793     2.269\n",
      "welland               8.571e-15   2.79e-15      3.076      0.002      3.11e-15   1.4e-14\n",
      "costa rica              -2.4767      0.855     -2.897      0.004        -4.152    -0.801\n",
      "virginia                 0.3720      0.350      1.063      0.288        -0.314     1.058\n",
      "brussels                -2.2751      0.542     -4.196      0.000        -3.338    -1.212\n",
      "poland                   2.3116      0.202     11.419      0.000         1.915     2.708\n",
      "churchill                5.1317      2.482      2.068      0.039         0.267     9.996\n",
      "taiwan                   1.7453      0.384      4.543      0.000         0.992     2.498\n",
      "australia                2.5370      0.173     14.687      0.000         2.198     2.876\n",
      "khabarovsk              -7.2577      2.064     -3.516      0.000       -11.304    -3.211\n",
      "qatar                    3.5098      2.014      1.743      0.081        -0.439     7.458\n",
      "sarajevo                 1.8777      0.928      2.023      0.043         0.058     3.697\n",
      "burkina faso             3.6612      2.011      1.821      0.069        -0.281     7.603\n",
      "bangladesh               2.1571      0.549      3.926      0.000         1.080     3.234\n",
      "rombas                  -5.6348      2.082     -2.706      0.007        -9.716    -1.553\n",
      "vienna                   2.1119      0.578      3.651      0.000         0.978     3.246\n",
      "lint                    -3.6821      2.486     -1.481      0.139        -8.555     1.190\n",
      "santa fe                 0.8870      0.465      1.909      0.056        -0.024     1.798\n",
      "morocco                  1.3306      0.343      3.880      0.000         0.658     2.003\n",
      "granada                 -3.7632      1.557     -2.417      0.016        -6.815    -0.712\n",
      "maldives                 3.1029      1.165      2.664      0.008         0.820     5.386\n",
      "dover                   -4.8879      2.047     -2.388      0.017        -8.900    -0.876\n",
      "taastrup                 5.6612      2.011      2.815      0.005         1.719     9.603\n",
      "lille                  -16.7305      2.330     -7.182      0.000       -21.297   -12.164\n",
      "shanghai                -0.8886      0.473     -1.877      0.060        -1.816     0.039\n",
      "mauritania               4.5612      2.011      2.268      0.023         0.619     8.503\n",
      "veneta                   4.3436      2.018      2.153      0.031         0.388     8.299\n",
      "cuneo                    2.8620      1.668      1.715      0.086        -0.409     6.133\n",
      "fort william             5.4646      2.230      2.450      0.014         1.093     9.837\n",
      "ukraine                  2.8114      0.525      5.356      0.000         1.782     3.840\n",
      "martinsville            -5.5777      2.044     -2.728      0.006        -9.585    -1.570\n",
      "gstaad                  -1.9509      1.056     -1.847      0.065        -4.021     0.119\n",
      "montpellier              1.5559      0.722      2.155      0.031         0.140     2.971\n",
      "cartago                  5.4455      2.187      2.490      0.013         1.158     9.733\n",
      "austria                  0.6700      0.403      1.663      0.096        -0.120     1.460\n",
      "usa                      2.8531      0.057     50.279      0.000         2.742     2.964\n",
      "muiden                   4.8292      1.427      3.385      0.001         2.033     7.626\n",
      "trieste                  1.5893      0.929      1.711      0.087        -0.231     3.410\n",
      "kolkata                  1.4095      0.361      3.905      0.000         0.702     2.117\n",
      "bainbridge              -2.6064      2.125     -1.227      0.220        -6.771     1.558\n",
      "puerto rico              2.0856      0.432      4.833      0.000         1.240     2.931\n",
      "latvia                   0.6513      0.573      1.137      0.256        -0.471     1.774\n",
      "serbia                   1.3559      0.418      3.242      0.001         0.536     2.176\n",
      "kalix                   -2.3826      2.046     -1.165      0.244        -6.393     1.628\n",
      "pezinok                  5.3681      2.012      2.669      0.008         1.425     9.311\n",
      "nyack                    1.2212      1.167      1.046      0.295        -1.067     3.509\n",
      "sardinia                 4.1339      1.424      2.903      0.004         1.342     6.925\n",
      "guanajuato               0.9277      0.789      1.176      0.240        -0.618     2.474\n",
      "new york                -0.4287      0.103     -4.171      0.000        -0.630    -0.227\n",
      "sweden                   1.4435      0.236      6.124      0.000         0.981     1.906\n",
      "jing'an                 -1.9509      1.056     -1.847      0.065        -4.021     0.119\n",
      "szeged                  -5.1609      2.044     -2.525      0.012        -9.167    -1.155\n",
      "uganda                   3.4316      1.161      2.955      0.003         1.155     5.708\n",
      "meppen                  -4.1080      2.184     -1.881      0.060        -8.390     0.174\n",
      "tirana                   5.0016      1.436      3.484      0.000         2.188     7.816\n",
      "lake charles             3.7194      2.012      1.849      0.065        -0.224     7.663\n",
      "kazakhstan               3.3004      0.649      5.082      0.000         2.027     4.574\n",
      "greece                   2.2586      0.306      7.370      0.000         1.658     2.859\n",
      "wembley                 -6.3956      2.060     -3.105      0.002       -10.434    -2.358\n",
      "armenia                  2.5995      0.901      2.886      0.004         0.834     4.365\n",
      "highland                -1.8373      0.974     -1.887      0.059        -3.746     0.072\n",
      "santo domingo            4.2025      1.006      4.177      0.000         2.230     6.175\n",
      "atlanta                 -0.7111      0.453     -1.571      0.116        -1.599     0.176\n",
      "spain                    2.7112      0.146     18.563      0.000         2.425     2.998\n",
      "mongolia                -2.0154      1.207     -1.670      0.095        -4.381     0.351\n",
      "bamberg                 -4.2817      2.033     -2.107      0.035        -8.266    -0.297\n",
      "fondi                    4.0612      2.011      2.020      0.043         0.119     8.003\n",
      "indonesia                3.2007      0.432      7.411      0.000         2.354     4.047\n",
      "utrecht                  2.7869      0.867      3.214      0.001         1.087     4.487\n",
      "burgos                  -4.0627      1.441     -2.820      0.005        -6.887    -1.238\n",
      "star city               -3.9397      2.127     -1.852      0.064        -8.109     0.230\n",
      "ljubljana                5.5358      1.346      4.113      0.000         2.897     8.174\n",
      "belgium                  1.9256      0.283      6.815      0.000         1.372     2.479\n",
      "sonning                 -5.1208      2.019     -2.537      0.011        -9.078    -1.164\n",
      "arnhem                   3.0707      1.024      2.998      0.003         1.063     5.079\n",
      "szentendre               3.5688      2.450      1.457      0.145        -1.234     8.371\n",
      "geelong                 -3.4573      0.918     -3.766      0.000        -5.257    -1.658\n",
      "matale                  -5.5295      2.129     -2.597      0.009        -9.703    -1.356\n",
      "cocoa beach             -0.8138      1.432     -0.568      0.570        -3.620     1.993\n",
      "paraguay                 3.7464      1.163      3.221      0.001         1.466     6.026\n",
      "kinshasa                 4.4612      2.011      2.218      0.027         0.519     8.403\n",
      "algeria                  3.5658      1.162      3.068      0.002         1.287     5.844\n",
      "abergele                -5.4248      2.062     -2.631      0.009        -9.466    -1.383\n",
      "Sci-Fi                   0.5559      0.119      4.688      0.000         0.323     0.788\n",
      "Crime                    0.5181      0.091      5.724      0.000         0.341     0.696\n",
      "Romance                  0.5013      0.077      6.539      0.000         0.351     0.652\n",
      "Animation                1.5108      0.286      5.281      0.000         0.950     2.072\n",
      "Music                    0.8033      0.166      4.828      0.000         0.477     1.129\n",
      "Comedy                   1.9993      0.052     38.092      0.000         1.896     2.102\n",
      "Horror                   0.7319      0.070     10.442      0.000         0.594     0.869\n",
      "Reality-TV               3.0707      1.024      2.998      0.003         1.063     5.079\n",
      "Thriller                 1.2275      0.067     18.449      0.000         1.097     1.358\n",
      "Adventure                0.5514      0.112      4.919      0.000         0.332     0.771\n",
      "Mystery                  0.7056      0.108      6.556      0.000         0.495     0.917\n",
      "Drama                    2.6388      0.046     57.027      0.000         2.548     2.730\n",
      "Action                   0.5601      0.079      7.092      0.000         0.405     0.715\n",
      "Musical                  1.1309      0.222      5.094      0.000         0.696     1.566\n",
      "History                  0.8972      0.175      5.135      0.000         0.555     1.240\n",
      "Family                   1.3208      0.120     10.987      0.000         1.085     1.557\n",
      "Fantasy                  0.7879      0.126      6.248      0.000         0.541     1.035\n",
      "Sport                    1.2023      0.232      5.189      0.000         0.748     1.657\n",
      "==============================================================================\n",
      "Omnibus:                      555.172   Durbin-Watson:                   1.913\n",
      "Prob(Omnibus):                  0.000   Jarque-Bera (JB):             1408.339\n",
      "Skew:                          -0.435   Prob(JB):                    1.52e-306\n",
      "Kurtosis:                       4.936   Cond. No.                     3.24e+18\n",
      "==============================================================================\n",
      "\n",
      "Warnings:\n",
      "[1] Standard Errors assume that the covariance matrix of the errors is correctly specified.\n",
      "[2] The smallest eigenvalue is 5.97e-34. This might indicate that there are\n",
      "strong multicollinearity problems or that the design matrix is singular.\n"
     ]
    }
   ],
   "source": [
    "print results2.summary()"
   ]
  },
  {
   "cell_type": "code",
   "execution_count": 39,
   "metadata": {
    "collapsed": false
   },
   "outputs": [],
   "source": [
    "ypredl = results2.predict(Xtestl[results.pvalues[results.pvalues<0.05].index])"
   ]
  },
  {
   "cell_type": "markdown",
   "metadata": {},
   "source": [
    "An overlay of the histograms of the actual and predicted user ratings of our test set shows us how good our prediction is."
   ]
  },
  {
   "cell_type": "code",
   "execution_count": 40,
   "metadata": {
    "collapsed": false,
    "scrolled": false
   },
   "outputs": [
    {
     "data": {
      "image/png": "[encoded data removed]",
      "text/plain": [
       "<matplotlib.figure.Figure at 0x1064a0090>"
      ]
     },
     "metadata": {},
     "output_type": "display_data"
    }
   ],
   "source": [
    "plt.axvline(x=np.mean(ytestl.values), linewidth=2, color=\"green\", label=\"Mean Actual\")\n",
    "plt.axvline(x=np.mean(ypredl), linewidth=2,alpha=0.5, color=\"blue\", label=\"Mean Predicted\")\n",
    "plt.hist(ytestl.values,bins=np.arange(-1, 11, 0.5),alpha=0.9, label='Actual', color=\"green\")\n",
    "plt.hist(ypredl, bins=np.arange(-1, 11, 0.5), alpha=0.5, label='Predicted', color=\"blue\")\n",
    "plt.legend(loc='upper right')\n",
    "plt.xlabel(\"User Ratings\")\n",
    "plt.ylabel(\"Number of Films\")\n",
    "plt.xlim([-1,11])\n",
    "plt.title(\"Histograms of Predicted and Actual User Ratings\")\n",
    "plt.show()"
   ]
  },
  {
   "cell_type": "markdown",
   "metadata": {},
   "source": [
    "The general distribution and mean of our predicted user ratings is quite similar to the actual test data. In fact, the adjusted R-squared of 0.887 seems to suggest quite a good fit for our model. However, some predicted values exceed the range of 0 to 10. As such, we explore other methods of prediction."
   ]
  },
  {
   "cell_type": "markdown",
   "metadata": {},
   "source": [
    "## 3.3. Principal Component Analysis"
   ]
  },
  {
   "cell_type": "markdown",
   "metadata": {},
   "source": [
    "In the subsequent sections, we attempt to predict reception of a film based on principal components of PCA. A film with user rating greater than or equal to 5 is classified as '1' and a rating lower than 5 is classified as '0'.\n",
    "\n",
    "We begin analysis by using PCA to reduce the number of dimensions features in the data. Our variation cutoff will be 5%. So if variation falls below 5% after a certain component, we will remove all remaining dimensions."
   ]
  },
  {
   "cell_type": "code",
   "execution_count": 41,
   "metadata": {
    "collapsed": false
   },
   "outputs": [],
   "source": [
    "from sklearn.decomposition import PCA\n",
    "\n",
    "pca = PCA(n_components=1500)\n",
    "\n",
    "new_X = pca.fit_transform(Xsampleddf)"
   ]
  },
  {
   "cell_type": "markdown",
   "metadata": {},
   "source": [
    "This is the explained variation of 1500 components."
   ]
  },
  {
   "cell_type": "code",
   "execution_count": 42,
   "metadata": {
    "collapsed": false
   },
   "outputs": [
    {
     "name": "stdout",
     "output_type": "stream",
     "text": [
      "0.950989475389\n"
     ]
    }
   ],
   "source": [
    "pca.explained_variance_ratio_\n",
    "print pca.explained_variance_ratio_.sum()"
   ]
  },
  {
   "cell_type": "code",
   "execution_count": 43,
   "metadata": {
    "collapsed": true
   },
   "outputs": [],
   "source": [
    "Xdf = pd.DataFrame()\n",
    "\n",
    "for i in range(pca.explained_variance_ratio_.shape[0]):\n",
    "    Xdf[\"pc%i\" % (i+1)] = new_X[:,i]"
   ]
  },
  {
   "cell_type": "code",
   "execution_count": 44,
   "metadata": {
    "collapsed": false
   },
   "outputs": [
    {
     "data": {
      "text/html": [
       "<div>\n",
       "<table border=\"1\" class=\"dataframe\">\n",
       "  <thead>\n",
       "    <tr style=\"text-align: right;\">\n",
       "      <th></th>\n",
       "      <th>pc1</th>\n",
       "      <th>pc2</th>\n",
       "      <th>pc3</th>\n",
       "      <th>pc4</th>\n",
       "      <th>pc5</th>\n",
       "      <th>pc6</th>\n",
       "      <th>pc7</th>\n",
       "      <th>pc8</th>\n",
       "      <th>pc9</th>\n",
       "      <th>pc10</th>\n",
       "      <th>pc11</th>\n",
       "      <th>pc12</th>\n",
       "      <th>pc13</th>\n",
       "      <th>pc14</th>\n",
       "      <th>pc15</th>\n",
       "      <th>pc16</th>\n",
       "      <th>pc17</th>\n",
       "      <th>pc18</th>\n",
       "      <th>pc19</th>\n",
       "      <th>pc20</th>\n",
       "      <th>pc21</th>\n",
       "      <th>pc22</th>\n",
       "      <th>pc23</th>\n",
       "      <th>pc24</th>\n",
       "      <th>pc25</th>\n",
       "      <th>pc26</th>\n",
       "      <th>pc27</th>\n",
       "      <th>pc28</th>\n",
       "      <th>pc29</th>\n",
       "      <th>pc30</th>\n",
       "      <th>pc31</th>\n",
       "      <th>pc32</th>\n",
       "      <th>pc33</th>\n",
       "      <th>pc34</th>\n",
       "      <th>pc35</th>\n",
       "      <th>pc36</th>\n",
       "      <th>pc37</th>\n",
       "      <th>pc38</th>\n",
       "      <th>pc39</th>\n",
       "      <th>pc40</th>\n",
       "      <th>pc41</th>\n",
       "      <th>pc42</th>\n",
       "      <th>pc43</th>\n",
       "      <th>pc44</th>\n",
       "      <th>pc45</th>\n",
       "      <th>pc46</th>\n",
       "      <th>pc47</th>\n",
       "      <th>pc48</th>\n",
       "      <th>pc49</th>\n",
       "      <th>pc50</th>\n",
       "      <th>...</th>\n",
       "      <th>pc1451</th>\n",
       "      <th>pc1452</th>\n",
       "      <th>pc1453</th>\n",
       "      <th>pc1454</th>\n",
       "      <th>pc1455</th>\n",
       "      <th>pc1456</th>\n",
       "      <th>pc1457</th>\n",
       "      <th>pc1458</th>\n",
       "      <th>pc1459</th>\n",
       "      <th>pc1460</th>\n",
       "      <th>pc1461</th>\n",
       "      <th>pc1462</th>\n",
       "      <th>pc1463</th>\n",
       "      <th>pc1464</th>\n",
       "      <th>pc1465</th>\n",
       "      <th>pc1466</th>\n",
       "      <th>pc1467</th>\n",
       "      <th>pc1468</th>\n",
       "      <th>pc1469</th>\n",
       "      <th>pc1470</th>\n",
       "      <th>pc1471</th>\n",
       "      <th>pc1472</th>\n",
       "      <th>pc1473</th>\n",
       "      <th>pc1474</th>\n",
       "      <th>pc1475</th>\n",
       "      <th>pc1476</th>\n",
       "      <th>pc1477</th>\n",
       "      <th>pc1478</th>\n",
       "      <th>pc1479</th>\n",
       "      <th>pc1480</th>\n",
       "      <th>pc1481</th>\n",
       "      <th>pc1482</th>\n",
       "      <th>pc1483</th>\n",
       "      <th>pc1484</th>\n",
       "      <th>pc1485</th>\n",
       "      <th>pc1486</th>\n",
       "      <th>pc1487</th>\n",
       "      <th>pc1488</th>\n",
       "      <th>pc1489</th>\n",
       "      <th>pc1490</th>\n",
       "      <th>pc1491</th>\n",
       "      <th>pc1492</th>\n",
       "      <th>pc1493</th>\n",
       "      <th>pc1494</th>\n",
       "      <th>pc1495</th>\n",
       "      <th>pc1496</th>\n",
       "      <th>pc1497</th>\n",
       "      <th>pc1498</th>\n",
       "      <th>pc1499</th>\n",
       "      <th>pc1500</th>\n",
       "    </tr>\n",
       "  </thead>\n",
       "  <tbody>\n",
       "    <tr>\n",
       "      <th>0</th>\n",
       "      <td>-0.066350</td>\n",
       "      <td>-0.670093</td>\n",
       "      <td>-0.050836</td>\n",
       "      <td>0.078633</td>\n",
       "      <td>-1.125600</td>\n",
       "      <td>-0.056040</td>\n",
       "      <td>-0.105434</td>\n",
       "      <td>0.190272</td>\n",
       "      <td>0.538619</td>\n",
       "      <td>-0.195652</td>\n",
       "      <td>-0.399023</td>\n",
       "      <td>-0.164460</td>\n",
       "      <td>-0.293033</td>\n",
       "      <td>-0.027973</td>\n",
       "      <td>0.122600</td>\n",
       "      <td>0.037682</td>\n",
       "      <td>0.003890</td>\n",
       "      <td>-0.031325</td>\n",
       "      <td>-0.011806</td>\n",
       "      <td>0.046461</td>\n",
       "      <td>-0.056476</td>\n",
       "      <td>-0.053256</td>\n",
       "      <td>0.008578</td>\n",
       "      <td>0.044745</td>\n",
       "      <td>-0.100227</td>\n",
       "      <td>0.071823</td>\n",
       "      <td>0.046617</td>\n",
       "      <td>0.066691</td>\n",
       "      <td>0.062903</td>\n",
       "      <td>0.000380</td>\n",
       "      <td>0.164204</td>\n",
       "      <td>-0.069500</td>\n",
       "      <td>-0.098806</td>\n",
       "      <td>0.166479</td>\n",
       "      <td>-0.150137</td>\n",
       "      <td>0.079788</td>\n",
       "      <td>-1.153106</td>\n",
       "      <td>-0.104587</td>\n",
       "      <td>-0.621643</td>\n",
       "      <td>-0.072449</td>\n",
       "      <td>0.047920</td>\n",
       "      <td>-0.040244</td>\n",
       "      <td>-0.065587</td>\n",
       "      <td>0.058357</td>\n",
       "      <td>0.000321</td>\n",
       "      <td>-0.000242</td>\n",
       "      <td>-0.021478</td>\n",
       "      <td>-0.027888</td>\n",
       "      <td>0.076853</td>\n",
       "      <td>0.009436</td>\n",
       "      <td>...</td>\n",
       "      <td>-0.000438</td>\n",
       "      <td>-0.002407</td>\n",
       "      <td>0.001025</td>\n",
       "      <td>0.002078</td>\n",
       "      <td>0.000568</td>\n",
       "      <td>-0.000128</td>\n",
       "      <td>0.000520</td>\n",
       "      <td>-0.002168</td>\n",
       "      <td>0.002026</td>\n",
       "      <td>-0.001497</td>\n",
       "      <td>-0.002197</td>\n",
       "      <td>-0.001142</td>\n",
       "      <td>0.000665</td>\n",
       "      <td>0.000840</td>\n",
       "      <td>-0.000200</td>\n",
       "      <td>0.001133</td>\n",
       "      <td>0.001909</td>\n",
       "      <td>-0.000977</td>\n",
       "      <td>0.000437</td>\n",
       "      <td>-0.001389</td>\n",
       "      <td>-0.001871</td>\n",
       "      <td>-0.000345</td>\n",
       "      <td>0.001306</td>\n",
       "      <td>0.000659</td>\n",
       "      <td>0.001392</td>\n",
       "      <td>-0.001358</td>\n",
       "      <td>-0.000818</td>\n",
       "      <td>0.001093</td>\n",
       "      <td>-0.000189</td>\n",
       "      <td>0.000809</td>\n",
       "      <td>-0.000589</td>\n",
       "      <td>0.000197</td>\n",
       "      <td>-0.000129</td>\n",
       "      <td>0.000094</td>\n",
       "      <td>0.000048</td>\n",
       "      <td>-0.001028</td>\n",
       "      <td>-0.000985</td>\n",
       "      <td>-0.000508</td>\n",
       "      <td>0.000316</td>\n",
       "      <td>-0.000454</td>\n",
       "      <td>0.000286</td>\n",
       "      <td>-0.000285</td>\n",
       "      <td>-0.000136</td>\n",
       "      <td>5.545358e-15</td>\n",
       "      <td>-1.071335e-15</td>\n",
       "      <td>8.011229e-17</td>\n",
       "      <td>2.192823e-15</td>\n",
       "      <td>-2.000105e-15</td>\n",
       "      <td>3.678057e-15</td>\n",
       "      <td>4.806914e-17</td>\n",
       "    </tr>\n",
       "    <tr>\n",
       "      <th>1</th>\n",
       "      <td>-0.560812</td>\n",
       "      <td>0.531123</td>\n",
       "      <td>0.382659</td>\n",
       "      <td>0.333944</td>\n",
       "      <td>-0.439023</td>\n",
       "      <td>0.241006</td>\n",
       "      <td>-0.316783</td>\n",
       "      <td>0.065685</td>\n",
       "      <td>0.135553</td>\n",
       "      <td>-0.021532</td>\n",
       "      <td>-0.771417</td>\n",
       "      <td>-0.326313</td>\n",
       "      <td>-0.164382</td>\n",
       "      <td>-0.026190</td>\n",
       "      <td>0.103695</td>\n",
       "      <td>0.084151</td>\n",
       "      <td>-0.096116</td>\n",
       "      <td>0.168581</td>\n",
       "      <td>0.021410</td>\n",
       "      <td>-0.009517</td>\n",
       "      <td>-0.020731</td>\n",
       "      <td>0.033012</td>\n",
       "      <td>-0.034160</td>\n",
       "      <td>0.054860</td>\n",
       "      <td>-0.053168</td>\n",
       "      <td>0.011908</td>\n",
       "      <td>-0.023070</td>\n",
       "      <td>0.023686</td>\n",
       "      <td>-0.010562</td>\n",
       "      <td>0.020057</td>\n",
       "      <td>-0.055836</td>\n",
       "      <td>0.003963</td>\n",
       "      <td>-0.053014</td>\n",
       "      <td>0.096105</td>\n",
       "      <td>-0.028106</td>\n",
       "      <td>-0.033452</td>\n",
       "      <td>0.033938</td>\n",
       "      <td>0.007513</td>\n",
       "      <td>-0.026669</td>\n",
       "      <td>0.034174</td>\n",
       "      <td>-0.029366</td>\n",
       "      <td>0.021898</td>\n",
       "      <td>0.011461</td>\n",
       "      <td>-0.025068</td>\n",
       "      <td>-0.001814</td>\n",
       "      <td>0.005328</td>\n",
       "      <td>0.018447</td>\n",
       "      <td>0.001233</td>\n",
       "      <td>0.018085</td>\n",
       "      <td>0.008192</td>\n",
       "      <td>...</td>\n",
       "      <td>0.006794</td>\n",
       "      <td>0.006914</td>\n",
       "      <td>0.005465</td>\n",
       "      <td>-0.000749</td>\n",
       "      <td>0.003412</td>\n",
       "      <td>0.007277</td>\n",
       "      <td>0.002803</td>\n",
       "      <td>0.003248</td>\n",
       "      <td>0.006883</td>\n",
       "      <td>-0.002268</td>\n",
       "      <td>0.000807</td>\n",
       "      <td>-0.000491</td>\n",
       "      <td>0.003035</td>\n",
       "      <td>0.006386</td>\n",
       "      <td>0.000034</td>\n",
       "      <td>-0.000559</td>\n",
       "      <td>0.003034</td>\n",
       "      <td>-0.003492</td>\n",
       "      <td>0.000237</td>\n",
       "      <td>-0.001926</td>\n",
       "      <td>-0.002465</td>\n",
       "      <td>0.000450</td>\n",
       "      <td>-0.001249</td>\n",
       "      <td>0.002407</td>\n",
       "      <td>0.000779</td>\n",
       "      <td>-0.004617</td>\n",
       "      <td>0.000620</td>\n",
       "      <td>-0.003264</td>\n",
       "      <td>-0.001933</td>\n",
       "      <td>0.001040</td>\n",
       "      <td>0.001819</td>\n",
       "      <td>0.001321</td>\n",
       "      <td>-0.001332</td>\n",
       "      <td>0.001044</td>\n",
       "      <td>-0.001357</td>\n",
       "      <td>0.001890</td>\n",
       "      <td>-0.001539</td>\n",
       "      <td>0.001206</td>\n",
       "      <td>-0.000218</td>\n",
       "      <td>-0.001807</td>\n",
       "      <td>-0.000571</td>\n",
       "      <td>-0.001234</td>\n",
       "      <td>-0.000651</td>\n",
       "      <td>-4.630789e-15</td>\n",
       "      <td>-8.194638e-15</td>\n",
       "      <td>1.200081e-15</td>\n",
       "      <td>2.935721e-15</td>\n",
       "      <td>3.506154e-15</td>\n",
       "      <td>1.522058e-15</td>\n",
       "      <td>-5.373756e-16</td>\n",
       "    </tr>\n",
       "    <tr>\n",
       "      <th>2</th>\n",
       "      <td>0.610763</td>\n",
       "      <td>-0.315403</td>\n",
       "      <td>-0.474722</td>\n",
       "      <td>-0.212557</td>\n",
       "      <td>0.035915</td>\n",
       "      <td>0.524099</td>\n",
       "      <td>-0.173022</td>\n",
       "      <td>-0.202003</td>\n",
       "      <td>-0.186362</td>\n",
       "      <td>-0.111612</td>\n",
       "      <td>0.462814</td>\n",
       "      <td>-0.012471</td>\n",
       "      <td>-0.039386</td>\n",
       "      <td>-0.038874</td>\n",
       "      <td>-0.399794</td>\n",
       "      <td>0.047593</td>\n",
       "      <td>-0.805383</td>\n",
       "      <td>0.360135</td>\n",
       "      <td>-0.076638</td>\n",
       "      <td>-0.156924</td>\n",
       "      <td>0.414043</td>\n",
       "      <td>0.139779</td>\n",
       "      <td>-0.321184</td>\n",
       "      <td>0.235991</td>\n",
       "      <td>0.442186</td>\n",
       "      <td>0.351778</td>\n",
       "      <td>0.342874</td>\n",
       "      <td>0.189957</td>\n",
       "      <td>0.033711</td>\n",
       "      <td>0.017275</td>\n",
       "      <td>0.737087</td>\n",
       "      <td>0.313009</td>\n",
       "      <td>-0.201215</td>\n",
       "      <td>0.233734</td>\n",
       "      <td>-0.029612</td>\n",
       "      <td>0.108084</td>\n",
       "      <td>0.090686</td>\n",
       "      <td>-0.022965</td>\n",
       "      <td>0.065336</td>\n",
       "      <td>0.012187</td>\n",
       "      <td>-0.055115</td>\n",
       "      <td>0.037796</td>\n",
       "      <td>0.054085</td>\n",
       "      <td>-0.055087</td>\n",
       "      <td>0.015385</td>\n",
       "      <td>0.008298</td>\n",
       "      <td>0.013550</td>\n",
       "      <td>0.009909</td>\n",
       "      <td>-0.006662</td>\n",
       "      <td>0.008863</td>\n",
       "      <td>...</td>\n",
       "      <td>0.009580</td>\n",
       "      <td>0.008613</td>\n",
       "      <td>-0.001274</td>\n",
       "      <td>-0.008282</td>\n",
       "      <td>0.000454</td>\n",
       "      <td>0.004485</td>\n",
       "      <td>-0.007032</td>\n",
       "      <td>-0.014146</td>\n",
       "      <td>-0.002670</td>\n",
       "      <td>0.008665</td>\n",
       "      <td>0.017603</td>\n",
       "      <td>-0.008668</td>\n",
       "      <td>0.005087</td>\n",
       "      <td>-0.000927</td>\n",
       "      <td>-0.005786</td>\n",
       "      <td>0.025804</td>\n",
       "      <td>0.009820</td>\n",
       "      <td>0.039011</td>\n",
       "      <td>0.012167</td>\n",
       "      <td>-0.080612</td>\n",
       "      <td>-0.005553</td>\n",
       "      <td>0.001007</td>\n",
       "      <td>0.007712</td>\n",
       "      <td>0.004880</td>\n",
       "      <td>-0.010619</td>\n",
       "      <td>0.026855</td>\n",
       "      <td>0.042320</td>\n",
       "      <td>0.013477</td>\n",
       "      <td>-0.019962</td>\n",
       "      <td>0.022043</td>\n",
       "      <td>0.009657</td>\n",
       "      <td>-0.023286</td>\n",
       "      <td>0.036905</td>\n",
       "      <td>0.011638</td>\n",
       "      <td>-0.012916</td>\n",
       "      <td>0.004692</td>\n",
       "      <td>-0.004997</td>\n",
       "      <td>-0.002481</td>\n",
       "      <td>0.020375</td>\n",
       "      <td>0.002992</td>\n",
       "      <td>-0.008840</td>\n",
       "      <td>0.002359</td>\n",
       "      <td>0.005339</td>\n",
       "      <td>6.705348e-15</td>\n",
       "      <td>8.061745e-15</td>\n",
       "      <td>4.665459e-15</td>\n",
       "      <td>-1.428342e-14</td>\n",
       "      <td>4.616225e-15</td>\n",
       "      <td>-2.493985e-14</td>\n",
       "      <td>-2.236853e-15</td>\n",
       "    </tr>\n",
       "    <tr>\n",
       "      <th>3</th>\n",
       "      <td>0.117680</td>\n",
       "      <td>0.499039</td>\n",
       "      <td>-0.666343</td>\n",
       "      <td>0.104795</td>\n",
       "      <td>0.429531</td>\n",
       "      <td>-0.598048</td>\n",
       "      <td>0.014088</td>\n",
       "      <td>-0.014096</td>\n",
       "      <td>0.173909</td>\n",
       "      <td>-0.139098</td>\n",
       "      <td>-0.152528</td>\n",
       "      <td>0.097668</td>\n",
       "      <td>0.120513</td>\n",
       "      <td>-0.009330</td>\n",
       "      <td>0.121165</td>\n",
       "      <td>-0.072110</td>\n",
       "      <td>-0.102072</td>\n",
       "      <td>-0.034262</td>\n",
       "      <td>0.052635</td>\n",
       "      <td>0.009866</td>\n",
       "      <td>0.080861</td>\n",
       "      <td>0.054988</td>\n",
       "      <td>0.001523</td>\n",
       "      <td>-0.011362</td>\n",
       "      <td>-0.001016</td>\n",
       "      <td>0.009547</td>\n",
       "      <td>-0.024669</td>\n",
       "      <td>-0.061805</td>\n",
       "      <td>-0.060235</td>\n",
       "      <td>0.011753</td>\n",
       "      <td>-0.009676</td>\n",
       "      <td>-0.018192</td>\n",
       "      <td>0.028999</td>\n",
       "      <td>-0.019510</td>\n",
       "      <td>0.033466</td>\n",
       "      <td>0.009968</td>\n",
       "      <td>-0.011181</td>\n",
       "      <td>0.009403</td>\n",
       "      <td>-0.021586</td>\n",
       "      <td>-0.018842</td>\n",
       "      <td>0.026755</td>\n",
       "      <td>-0.009931</td>\n",
       "      <td>-0.021578</td>\n",
       "      <td>0.037902</td>\n",
       "      <td>0.011662</td>\n",
       "      <td>0.012444</td>\n",
       "      <td>0.001497</td>\n",
       "      <td>-0.020722</td>\n",
       "      <td>0.019469</td>\n",
       "      <td>0.012752</td>\n",
       "      <td>...</td>\n",
       "      <td>-0.001730</td>\n",
       "      <td>-0.001033</td>\n",
       "      <td>0.002889</td>\n",
       "      <td>-0.003900</td>\n",
       "      <td>0.004070</td>\n",
       "      <td>0.002696</td>\n",
       "      <td>-0.001535</td>\n",
       "      <td>-0.002978</td>\n",
       "      <td>-0.000174</td>\n",
       "      <td>-0.000019</td>\n",
       "      <td>-0.004383</td>\n",
       "      <td>0.006234</td>\n",
       "      <td>-0.005182</td>\n",
       "      <td>-0.002339</td>\n",
       "      <td>0.003972</td>\n",
       "      <td>-0.001523</td>\n",
       "      <td>0.000504</td>\n",
       "      <td>0.000863</td>\n",
       "      <td>-0.003562</td>\n",
       "      <td>0.001162</td>\n",
       "      <td>-0.002910</td>\n",
       "      <td>-0.003583</td>\n",
       "      <td>0.001927</td>\n",
       "      <td>0.003377</td>\n",
       "      <td>-0.000338</td>\n",
       "      <td>-0.003514</td>\n",
       "      <td>0.000132</td>\n",
       "      <td>0.000465</td>\n",
       "      <td>-0.003416</td>\n",
       "      <td>0.002678</td>\n",
       "      <td>-0.003304</td>\n",
       "      <td>-0.000115</td>\n",
       "      <td>-0.003947</td>\n",
       "      <td>0.000188</td>\n",
       "      <td>-0.001751</td>\n",
       "      <td>0.001631</td>\n",
       "      <td>-0.000060</td>\n",
       "      <td>0.000084</td>\n",
       "      <td>-0.001118</td>\n",
       "      <td>0.000464</td>\n",
       "      <td>0.001273</td>\n",
       "      <td>-0.000803</td>\n",
       "      <td>0.001313</td>\n",
       "      <td>-4.104184e-15</td>\n",
       "      <td>-9.534357e-16</td>\n",
       "      <td>-2.968783e-15</td>\n",
       "      <td>2.023738e-15</td>\n",
       "      <td>1.020067e-16</td>\n",
       "      <td>-1.431353e-14</td>\n",
       "      <td>-1.475223e-15</td>\n",
       "    </tr>\n",
       "    <tr>\n",
       "      <th>4</th>\n",
       "      <td>-0.053905</td>\n",
       "      <td>-0.729001</td>\n",
       "      <td>0.166426</td>\n",
       "      <td>0.743913</td>\n",
       "      <td>-0.268818</td>\n",
       "      <td>-0.016824</td>\n",
       "      <td>-0.002326</td>\n",
       "      <td>0.082453</td>\n",
       "      <td>-0.181618</td>\n",
       "      <td>0.188368</td>\n",
       "      <td>0.028115</td>\n",
       "      <td>0.317115</td>\n",
       "      <td>0.411104</td>\n",
       "      <td>-0.048532</td>\n",
       "      <td>0.055576</td>\n",
       "      <td>-0.089072</td>\n",
       "      <td>-0.022603</td>\n",
       "      <td>-0.017144</td>\n",
       "      <td>0.061743</td>\n",
       "      <td>-0.026660</td>\n",
       "      <td>0.049179</td>\n",
       "      <td>-0.000930</td>\n",
       "      <td>0.002658</td>\n",
       "      <td>0.017294</td>\n",
       "      <td>0.008629</td>\n",
       "      <td>0.002599</td>\n",
       "      <td>0.006455</td>\n",
       "      <td>-0.020411</td>\n",
       "      <td>-0.073979</td>\n",
       "      <td>0.026992</td>\n",
       "      <td>-0.037640</td>\n",
       "      <td>0.019390</td>\n",
       "      <td>-0.031789</td>\n",
       "      <td>-0.016775</td>\n",
       "      <td>0.018845</td>\n",
       "      <td>-0.003493</td>\n",
       "      <td>0.005769</td>\n",
       "      <td>0.022092</td>\n",
       "      <td>-0.009325</td>\n",
       "      <td>0.049228</td>\n",
       "      <td>-0.052647</td>\n",
       "      <td>0.007348</td>\n",
       "      <td>0.022931</td>\n",
       "      <td>0.008130</td>\n",
       "      <td>0.049261</td>\n",
       "      <td>-0.212828</td>\n",
       "      <td>0.071786</td>\n",
       "      <td>-0.082025</td>\n",
       "      <td>0.030492</td>\n",
       "      <td>-0.005113</td>\n",
       "      <td>...</td>\n",
       "      <td>0.000934</td>\n",
       "      <td>-0.000114</td>\n",
       "      <td>0.000698</td>\n",
       "      <td>0.000115</td>\n",
       "      <td>-0.002001</td>\n",
       "      <td>-0.000077</td>\n",
       "      <td>-0.000651</td>\n",
       "      <td>0.000120</td>\n",
       "      <td>-0.001042</td>\n",
       "      <td>-0.000417</td>\n",
       "      <td>0.000247</td>\n",
       "      <td>-0.000417</td>\n",
       "      <td>0.000597</td>\n",
       "      <td>0.000014</td>\n",
       "      <td>0.001343</td>\n",
       "      <td>-0.000412</td>\n",
       "      <td>-0.000944</td>\n",
       "      <td>-0.000890</td>\n",
       "      <td>-0.000590</td>\n",
       "      <td>0.000854</td>\n",
       "      <td>-0.000548</td>\n",
       "      <td>-0.000477</td>\n",
       "      <td>-0.000300</td>\n",
       "      <td>-0.000246</td>\n",
       "      <td>-0.000271</td>\n",
       "      <td>-0.000182</td>\n",
       "      <td>0.001524</td>\n",
       "      <td>-0.001093</td>\n",
       "      <td>-0.000353</td>\n",
       "      <td>-0.000046</td>\n",
       "      <td>-0.000475</td>\n",
       "      <td>-0.000136</td>\n",
       "      <td>-0.000060</td>\n",
       "      <td>-0.000405</td>\n",
       "      <td>-0.000106</td>\n",
       "      <td>0.000257</td>\n",
       "      <td>-0.000023</td>\n",
       "      <td>-0.000208</td>\n",
       "      <td>-0.000117</td>\n",
       "      <td>-0.000234</td>\n",
       "      <td>0.000215</td>\n",
       "      <td>-0.000020</td>\n",
       "      <td>0.000118</td>\n",
       "      <td>-1.094832e-15</td>\n",
       "      <td>-1.232665e-15</td>\n",
       "      <td>4.200030e-16</td>\n",
       "      <td>6.413104e-16</td>\n",
       "      <td>1.452666e-16</td>\n",
       "      <td>3.434471e-16</td>\n",
       "      <td>1.907441e-16</td>\n",
       "    </tr>\n",
       "  </tbody>\n",
       "</table>\n",
       "<p>5 rows × 1500 columns</p>\n",
       "</div>"
      ],
      "text/plain": [
       "        pc1       pc2       pc3       pc4       pc5       pc6       pc7       pc8       pc9      pc10      pc11      pc12      pc13      pc14      pc15      pc16      pc17      pc18      pc19      pc20      pc21      pc22      pc23      pc24      pc25      pc26      pc27      pc28      pc29      pc30      pc31      pc32      pc33      pc34      pc35      pc36      pc37      pc38      pc39      pc40      pc41      pc42      pc43      pc44      pc45      pc46      pc47      pc48      pc49  \\\n",
       "0 -0.066350 -0.670093 -0.050836  0.078633 -1.125600 -0.056040 -0.105434  0.190272  0.538619 -0.195652 -0.399023 -0.164460 -0.293033 -0.027973  0.122600  0.037682  0.003890 -0.031325 -0.011806  0.046461 -0.056476 -0.053256  0.008578  0.044745 -0.100227  0.071823  0.046617  0.066691  0.062903  0.000380  0.164204 -0.069500 -0.098806  0.166479 -0.150137  0.079788 -1.153106 -0.104587 -0.621643 -0.072449  0.047920 -0.040244 -0.065587  0.058357  0.000321 -0.000242 -0.021478 -0.027888  0.076853   \n",
       "1 -0.560812  0.531123  0.382659  0.333944 -0.439023  0.241006 -0.316783  0.065685  0.135553 -0.021532 -0.771417 -0.326313 -0.164382 -0.026190  0.103695  0.084151 -0.096116  0.168581  0.021410 -0.009517 -0.020731  0.033012 -0.034160  0.054860 -0.053168  0.011908 -0.023070  0.023686 -0.010562  0.020057 -0.055836  0.003963 -0.053014  0.096105 -0.028106 -0.033452  0.033938  0.007513 -0.026669  0.034174 -0.029366  0.021898  0.011461 -0.025068 -0.001814  0.005328  0.018447  0.001233  0.018085   \n",
       "2  0.610763 -0.315403 -0.474722 -0.212557  0.035915  0.524099 -0.173022 -0.202003 -0.186362 -0.111612  0.462814 -0.012471 -0.039386 -0.038874 -0.399794  0.047593 -0.805383  0.360135 -0.076638 -0.156924  0.414043  0.139779 -0.321184  0.235991  0.442186  0.351778  0.342874  0.189957  0.033711  0.017275  0.737087  0.313009 -0.201215  0.233734 -0.029612  0.108084  0.090686 -0.022965  0.065336  0.012187 -0.055115  0.037796  0.054085 -0.055087  0.015385  0.008298  0.013550  0.009909 -0.006662   \n",
       "3  0.117680  0.499039 -0.666343  0.104795  0.429531 -0.598048  0.014088 -0.014096  0.173909 -0.139098 -0.152528  0.097668  0.120513 -0.009330  0.121165 -0.072110 -0.102072 -0.034262  0.052635  0.009866  0.080861  0.054988  0.001523 -0.011362 -0.001016  0.009547 -0.024669 -0.061805 -0.060235  0.011753 -0.009676 -0.018192  0.028999 -0.019510  0.033466  0.009968 -0.011181  0.009403 -0.021586 -0.018842  0.026755 -0.009931 -0.021578  0.037902  0.011662  0.012444  0.001497 -0.020722  0.019469   \n",
       "4 -0.053905 -0.729001  0.166426  0.743913 -0.268818 -0.016824 -0.002326  0.082453 -0.181618  0.188368  0.028115  0.317115  0.411104 -0.048532  0.055576 -0.089072 -0.022603 -0.017144  0.061743 -0.026660  0.049179 -0.000930  0.002658  0.017294  0.008629  0.002599  0.006455 -0.020411 -0.073979  0.026992 -0.037640  0.019390 -0.031789 -0.016775  0.018845 -0.003493  0.005769  0.022092 -0.009325  0.049228 -0.052647  0.007348  0.022931  0.008130  0.049261 -0.212828  0.071786 -0.082025  0.030492   \n",
       "\n",
       "       pc50      ...         pc1451    pc1452    pc1453    pc1454    pc1455    pc1456    pc1457    pc1458    pc1459    pc1460    pc1461    pc1462    pc1463    pc1464    pc1465    pc1466    pc1467    pc1468    pc1469    pc1470    pc1471    pc1472    pc1473    pc1474    pc1475    pc1476    pc1477    pc1478    pc1479    pc1480    pc1481    pc1482    pc1483    pc1484    pc1485    pc1486    pc1487    pc1488    pc1489    pc1490    pc1491    pc1492    pc1493        pc1494        pc1495        pc1496  \\\n",
       "0  0.009436      ...      -0.000438 -0.002407  0.001025  0.002078  0.000568 -0.000128  0.000520 -0.002168  0.002026 -0.001497 -0.002197 -0.001142  0.000665  0.000840 -0.000200  0.001133  0.001909 -0.000977  0.000437 -0.001389 -0.001871 -0.000345  0.001306  0.000659  0.001392 -0.001358 -0.000818  0.001093 -0.000189  0.000809 -0.000589  0.000197 -0.000129  0.000094  0.000048 -0.001028 -0.000985 -0.000508  0.000316 -0.000454  0.000286 -0.000285 -0.000136  5.545358e-15 -1.071335e-15  8.011229e-17   \n",
       "1  0.008192      ...       0.006794  0.006914  0.005465 -0.000749  0.003412  0.007277  0.002803  0.003248  0.006883 -0.002268  0.000807 -0.000491  0.003035  0.006386  0.000034 -0.000559  0.003034 -0.003492  0.000237 -0.001926 -0.002465  0.000450 -0.001249  0.002407  0.000779 -0.004617  0.000620 -0.003264 -0.001933  0.001040  0.001819  0.001321 -0.001332  0.001044 -0.001357  0.001890 -0.001539  0.001206 -0.000218 -0.001807 -0.000571 -0.001234 -0.000651 -4.630789e-15 -8.194638e-15  1.200081e-15   \n",
       "2  0.008863      ...       0.009580  0.008613 -0.001274 -0.008282  0.000454  0.004485 -0.007032 -0.014146 -0.002670  0.008665  0.017603 -0.008668  0.005087 -0.000927 -0.005786  0.025804  0.009820  0.039011  0.012167 -0.080612 -0.005553  0.001007  0.007712  0.004880 -0.010619  0.026855  0.042320  0.013477 -0.019962  0.022043  0.009657 -0.023286  0.036905  0.011638 -0.012916  0.004692 -0.004997 -0.002481  0.020375  0.002992 -0.008840  0.002359  0.005339  6.705348e-15  8.061745e-15  4.665459e-15   \n",
       "3  0.012752      ...      -0.001730 -0.001033  0.002889 -0.003900  0.004070  0.002696 -0.001535 -0.002978 -0.000174 -0.000019 -0.004383  0.006234 -0.005182 -0.002339  0.003972 -0.001523  0.000504  0.000863 -0.003562  0.001162 -0.002910 -0.003583  0.001927  0.003377 -0.000338 -0.003514  0.000132  0.000465 -0.003416  0.002678 -0.003304 -0.000115 -0.003947  0.000188 -0.001751  0.001631 -0.000060  0.000084 -0.001118  0.000464  0.001273 -0.000803  0.001313 -4.104184e-15 -9.534357e-16 -2.968783e-15   \n",
       "4 -0.005113      ...       0.000934 -0.000114  0.000698  0.000115 -0.002001 -0.000077 -0.000651  0.000120 -0.001042 -0.000417  0.000247 -0.000417  0.000597  0.000014  0.001343 -0.000412 -0.000944 -0.000890 -0.000590  0.000854 -0.000548 -0.000477 -0.000300 -0.000246 -0.000271 -0.000182  0.001524 -0.001093 -0.000353 -0.000046 -0.000475 -0.000136 -0.000060 -0.000405 -0.000106  0.000257 -0.000023 -0.000208 -0.000117 -0.000234  0.000215 -0.000020  0.000118 -1.094832e-15 -1.232665e-15  4.200030e-16   \n",
       "\n",
       "         pc1497        pc1498        pc1499        pc1500  \n",
       "0  2.192823e-15 -2.000105e-15  3.678057e-15  4.806914e-17  \n",
       "1  2.935721e-15  3.506154e-15  1.522058e-15 -5.373756e-16  \n",
       "2 -1.428342e-14  4.616225e-15 -2.493985e-14 -2.236853e-15  \n",
       "3  2.023738e-15  1.020067e-16 -1.431353e-14 -1.475223e-15  \n",
       "4  6.413104e-16  1.452666e-16  3.434471e-16  1.907441e-16  \n",
       "\n",
       "[5 rows x 1500 columns]"
      ]
     },
     "execution_count": 44,
     "metadata": {},
     "output_type": "execute_result"
    }
   ],
   "source": [
    "Xdf.head()"
   ]
  },
  {
   "cell_type": "markdown",
   "metadata": {},
   "source": [
    "This gives us a data set with reduced dimension. Now, the features are the principal components."
   ]
  },
  {
   "cell_type": "markdown",
   "metadata": {},
   "source": [
    "##3.4. Train-Test Splitting"
   ]
  },
  {
   "cell_type": "markdown",
   "metadata": {},
   "source": [
    "Here, we split our data set into train and test sets. Our data set consists of 10,000 titles. We want training and testing data in the ratio 3:1. So, the size of each set will be 7,500 and 2,500, respectively."
   ]
  },
  {
   "cell_type": "code",
   "execution_count": 45,
   "metadata": {
    "collapsed": true
   },
   "outputs": [],
   "source": [
    "from sklearn.cross_validation import train_test_split\n",
    "Xtrain, Xtest, ytrain, ytest = train_test_split(Xdf.values, ratingsdf_sampled['reception'].values, train_size=0.75, random_state=1)"
   ]
  },
  {
   "cell_type": "markdown",
   "metadata": {},
   "source": [
    "##3.5. Baseline Accuracy"
   ]
  },
  {
   "cell_type": "markdown",
   "metadata": {},
   "source": [
    "We calculate a baseline accuracy by assuming that all the predictions were well-received. This gives us a baseline of:"
   ]
  },
  {
   "cell_type": "code",
   "execution_count": 46,
   "metadata": {
    "collapsed": false
   },
   "outputs": [
    {
     "name": "stdout",
     "output_type": "stream",
     "text": [
      "Baseline Accuracy: 0.7716\n"
     ]
    }
   ],
   "source": [
    "baseline  = sum(ytest)*1./len(ytest)\n",
    "print 'Baseline Accuracy: %0.4f' % baseline"
   ]
  },
  {
   "cell_type": "markdown",
   "metadata": {},
   "source": [
    "For our classifier to be worthwhile pursuing, the classifier's accuracy should be better than the baseline. This is what we will explore in the next few sections using Logistic Regression and kNN."
   ]
  },
  {
   "cell_type": "markdown",
   "metadata": {},
   "source": [
    "##3.6. Logistic Regression"
   ]
  },
  {
   "cell_type": "code",
   "execution_count": 66,
   "metadata": {
    "collapsed": false
   },
   "outputs": [
    {
     "data": {
      "text/plain": [
       "(array([0, 1]), <a list of 2 Text xticklabel objects>)"
      ]
     },
     "execution_count": 66,
     "metadata": {},
     "output_type": "execute_result"
    },
    {
     "data": {
      "image/png": "[encoded data removed]",
      "text/plain": [
       "<matplotlib.figure.Figure at 0x11e431810>"
      ]
     },
     "metadata": {},
     "output_type": "display_data"
    }
   ],
   "source": [
    "reception_mask = (ratingsdf_sampled['reception']==1)\n",
    "\n",
    "reception_count = pd.Series([sum(~reception_mask), sum(reception_mask)], index=['Not well-received','Well-received'])\n",
    "reception_count.plot('bar',color=sns.color_palette(\"muted\"), alpha=0.8)\n",
    "plt.xlabel(\"Reception\")\n",
    "plt.ylabel(\"No. of Films\")\n",
    "plt.xticks(rotation=0)"
   ]
  },
  {
   "cell_type": "markdown",
   "metadata": {},
   "source": [
    "We wish to study the effects of locations and genre on reception. Since we have reduced locations and genres to principal components, we will perform a logistic regression of film reception on the principal components. We denote $ Y = $ Reception and $PC_c$ = Dummy Variable for principal component $c$.\n",
    "\n",
    "Our regression equation will take the following form:\n",
    "\n",
    "$$ P(Y_i=1) = F(\\beta_0 + \\delta_1 PC_{1i} + \\delta_2 PC_{2i} + ... + \\delta_C PC_{Ci})$$\n",
    "\n",
    "where $\\beta_0$ is the intercept parameter, $\\delta_c$ are the slope parameters for the principal components and $F$ is the logistic function defined as:\n",
    "\n",
    "$$ F(x) = \\frac{e^x}{e^x + 1} $$"
   ]
  },
  {
   "cell_type": "markdown",
   "metadata": {},
   "source": [
    "After estimating the coefficients, we apply the coefficient estimates on the test set. Then, we compare the accuracy of predicting $Y$ on both the training and test data."
   ]
  },
  {
   "cell_type": "markdown",
   "metadata": {},
   "source": [
    "In the code below, we first find the best paramater C for the logistic regression from the training set using 5-folds cross-validation."
   ]
  },
  {
   "cell_type": "code",
   "execution_count": 48,
   "metadata": {
    "collapsed": false
   },
   "outputs": [
    {
     "data": {
      "text/plain": [
       "(LogisticRegression(C=0.1, class_weight=None, dual=False, fit_intercept=True,\n",
       "           intercept_scaling=1, max_iter=100, multi_class='ovr',\n",
       "           penalty='l2', random_state=None, solver='liblinear', tol=0.0001,\n",
       "           verbose=0),\n",
       " {'C': 0.1},\n",
       " 0.77800000000000002,\n",
       " [mean: 0.76507, std: 0.00021, params: {'C': 0.0001},\n",
       "  mean: 0.76507, std: 0.00021, params: {'C': 0.001},\n",
       "  mean: 0.77800, std: 0.00664, params: {'C': 0.1},\n",
       "  mean: 0.77613, std: 0.00724, params: {'C': 1},\n",
       "  mean: 0.75320, std: 0.00768, params: {'C': 10},\n",
       "  mean: 0.73093, std: 0.00899, params: {'C': 100}])"
      ]
     },
     "execution_count": 48,
     "metadata": {},
     "output_type": "execute_result"
    }
   ],
   "source": [
    "from sklearn.grid_search import GridSearchCV\n",
    "from sklearn.linear_model import LogisticRegression\n",
    "from sklearn.metrics import accuracy_score\n",
    "\n",
    "clf=LogisticRegression()\n",
    "parameters = {\"C\": [0.0001, 0.001, 0.1, 1, 10, 100]}\n",
    "fitmodel = GridSearchCV(clf, param_grid=parameters, cv=5, scoring=\"accuracy\")\n",
    "fitmodel.fit(Xtrain, ytrain)\n",
    "fitmodel.best_estimator_, fitmodel.best_params_, fitmodel.best_score_, fitmodel.grid_scores_"
   ]
  },
  {
   "cell_type": "code",
   "execution_count": 49,
   "metadata": {
    "collapsed": false
   },
   "outputs": [
    {
     "name": "stdout",
     "output_type": "stream",
     "text": [
      "Accuracy on training data: 0.7889\n",
      "Accuracy on test data:     0.7884\n"
     ]
    }
   ],
   "source": [
    "clflog=LogisticRegression(C=fitmodel.best_params_['C'])\n",
    "clflog.fit(Xtrain, ytrain)\n",
    "lrtrain_accuracy = clflog.score(Xtrain,ytrain)\n",
    "lrtest_accuracy=clflog.score(Xtest,ytest)\n",
    "print \"Accuracy on training data: %0.4f\" % (lrtrain_accuracy)\n",
    "print \"Accuracy on test data:     %0.4f\" % (lrtest_accuracy)"
   ]
  },
  {
   "cell_type": "code",
   "execution_count": 50,
   "metadata": {
    "collapsed": true
   },
   "outputs": [],
   "source": [
    "from sklearn.metrics import roc_curve, auc\n",
    "def make_roc(name, clf, ytest, xtest, ax=None, labe=5, proba=True, skip=0):\n",
    "    initial=False\n",
    "    if not ax:\n",
    "        ax=plt.gca()\n",
    "        initial=True\n",
    "    if proba:#for stuff like logistic regression\n",
    "        fpr, tpr, thresholds=roc_curve(ytest, clf.predict_proba(xtest)[:,1])\n",
    "    else:#for stuff like SVM\n",
    "        fpr, tpr, thresholds=roc_curve(ytest, clf.decision_function(xtest))\n",
    "    roc_auc = auc(fpr, tpr)\n",
    "    if skip:\n",
    "        l=fpr.shape[0]\n",
    "        ax.plot(fpr[0:l:skip], tpr[0:l:skip], '.-', alpha=0.3, label='ROC curve for %s (area = %0.2f)' % (name, roc_auc))\n",
    "    else:\n",
    "        ax.plot(fpr, tpr, '.-', alpha=0.3, label='ROC curve for %s (area = %0.2f)' % (name, roc_auc))\n",
    "    label_kwargs = {}\n",
    "    label_kwargs['bbox'] = dict(\n",
    "        boxstyle='round,pad=0.3', alpha=0.2,\n",
    "    )\n",
    "    if labe!=None:\n",
    "        for k in xrange(0, fpr.shape[0],labe):\n",
    "            #from https://gist.github.com/podshumok/c1d1c9394335d86255b8\n",
    "            threshold = str(np.round(thresholds[k], 2))\n",
    "            ax.annotate(threshold, (fpr[k], tpr[k]), **label_kwargs)\n",
    "    if initial:\n",
    "        ax.plot([0, 1], [0, 1], 'k--')\n",
    "        ax.set_xlim([0.0, 1.0])\n",
    "        ax.set_ylim([0.0, 1.05])\n",
    "        ax.set_xlabel('False Positive Rate')\n",
    "        ax.set_ylabel('True Positive Rate')\n",
    "        ax.set_title('ROC')\n",
    "    ax.legend(loc=\"lower right\")\n",
    "    return ax"
   ]
  },
  {
   "cell_type": "code",
   "execution_count": 51,
   "metadata": {
    "collapsed": false
   },
   "outputs": [
    {
     "data": {
      "image/png": "[encoded data removed]",
      "text/plain": [
       "<matplotlib.figure.Figure at 0x10d4a1d10>"
      ]
     },
     "metadata": {},
     "output_type": "display_data"
    }
   ],
   "source": [
    "with sns.hls_palette(8, l=.3, s=.8):\n",
    "    ax=make_roc(\"logistic-regression\",clflog, ytest, Xtest, labe=200, skip=50)"
   ]
  },
  {
   "cell_type": "markdown",
   "metadata": {},
   "source": [
    "The ROC curve indicates an area of 0.73."
   ]
  },
  {
   "cell_type": "markdown",
   "metadata": {},
   "source": [
    "##3.7. K-Nearest Neighbours"
   ]
  },
  {
   "cell_type": "markdown",
   "metadata": {},
   "source": [
    "Next, we use the non-parametrised kNN classification with distance defined by the principal components. We train the data and use cross-validation to find the optimal K. Then, we look at the accuracy of prediction on the test data, comparing it with the training data."
   ]
  },
  {
   "cell_type": "code",
   "execution_count": 52,
   "metadata": {
    "collapsed": true
   },
   "outputs": [],
   "source": [
    "from sklearn.neighbors import KNeighborsClassifier\n",
    "\n",
    "clf= KNeighborsClassifier()\n",
    "k = {}"
   ]
  },
  {
   "cell_type": "markdown",
   "metadata": {},
   "source": [
    "This is the code to find the optimal k neighbours from training set:"
   ]
  },
  {
   "cell_type": "code",
   "execution_count": 53,
   "metadata": {
    "collapsed": true
   },
   "outputs": [],
   "source": [
    "#coarse grain search\n",
    "gs = GridSearchCV(KNeighborsClassifier(), param_grid={\"n_neighbors\": range(1,86,20)}, cv=5)\n",
    "gs.fit(Xtrain, ytrain)\n",
    "gs.best_params_, fitmodel.best_score_, fitmodel.grid_scores_\n",
    "for scores in gs.grid_scores_:\n",
    "    k[scores[1]] = (scores[0])['n_neighbors']\n",
    "k_best = k[max(k.keys())]"
   ]
  },
  {
   "cell_type": "code",
   "execution_count": 54,
   "metadata": {
    "collapsed": true
   },
   "outputs": [],
   "source": [
    "#fine grain search\n",
    "gs = GridSearchCV(KNeighborsClassifier(), param_grid={\"n_neighbors\": range(k_best-8,k_best+8,2)}, cv=5)\n",
    "gs.fit(Xtrain, ytrain)\n",
    "gs.best_params_, fitmodel.best_score_, fitmodel.grid_scores_\n",
    "for scores in gs.grid_scores_:\n",
    "    k[scores[1]] = (scores[0])['n_neighbors']"
   ]
  },
  {
   "cell_type": "code",
   "execution_count": 55,
   "metadata": {
    "collapsed": false
   },
   "outputs": [
    {
     "data": {
      "text/plain": [
       "{0.68666666666666665: 1,\n",
       " 0.76759999999999995: 21,\n",
       " 0.77573333333333339: 41,\n",
       " 0.77759999999999996: 61,\n",
       " 0.77813333333333334: 73,\n",
       " 0.77839999999999998: 87,\n",
       " 0.7785333333333333: 77,\n",
       " 0.77880000000000005: 85,\n",
       " 0.77906666666666669: 81,\n",
       " 0.78000000000000003: 83}"
      ]
     },
     "execution_count": 55,
     "metadata": {},
     "output_type": "execute_result"
    }
   ],
   "source": [
    "k"
   ]
  },
  {
   "cell_type": "code",
   "execution_count": 56,
   "metadata": {
    "collapsed": false
   },
   "outputs": [
    {
     "data": {
      "text/plain": [
       "83"
      ]
     },
     "execution_count": 56,
     "metadata": {},
     "output_type": "execute_result"
    }
   ],
   "source": [
    "k_best = k[max(k.keys())]\n",
    "k_best"
   ]
  },
  {
   "cell_type": "markdown",
   "metadata": {},
   "source": [
    "Then we apply to the test set and compare the accuracy with logistic regression."
   ]
  },
  {
   "cell_type": "code",
   "execution_count": 57,
   "metadata": {
    "collapsed": false
   },
   "outputs": [
    {
     "name": "stdout",
     "output_type": "stream",
     "text": [
      "Accuracy on training data: 0.7889\n",
      "Accuracy on test data:     0.7760\n"
     ]
    }
   ],
   "source": [
    "clfknn=KNeighborsClassifier(n_neighbors=k_best)\n",
    "#clfknn=KNeighborsClassifier(n_neighbors=83)\n",
    "clfknn = clfknn.fit(Xtrain, ytrain)\n",
    "ktrain_accuracy = clflog.score(Xtrain,ytrain)\n",
    "ktest_accuracy = clfknn.score(Xtest,ytest)\n",
    "print \"Accuracy on training data: %0.4f\" % (ktrain_accuracy)\n",
    "print \"Accuracy on test data:     %0.4f\" % (ktest_accuracy)\n"
   ]
  },
  {
   "cell_type": "markdown",
   "metadata": {},
   "source": [
    "#4. Comparison"
   ]
  },
  {
   "cell_type": "code",
   "execution_count": 58,
   "metadata": {
    "collapsed": false
   },
   "outputs": [
    {
     "data": {
      "text/plain": [
       "[77.16, 77.60000000000001, 78.84]"
      ]
     },
     "execution_count": 58,
     "metadata": {},
     "output_type": "execute_result"
    }
   ],
   "source": [
    "accuracies = {}\n",
    "accuracies[\"Baseline\"] = round(baseline, 4)*100\n",
    "accuracies[\"Logistic Regression\"] = round(lrtest_accuracy,4)*100\n",
    "accuracies[\"kNN\"]= round(ktest_accuracy, 4)*100\n",
    "accuracies\n",
    "sortedvalues = sorted(accuracies.values())\n",
    "sortedvalues"
   ]
  },
  {
   "cell_type": "code",
   "execution_count": 59,
   "metadata": {
    "collapsed": false
   },
   "outputs": [
    {
     "data": {
      "text/plain": [
       "<matplotlib.text.Text at 0x10d981310>"
      ]
     },
     "execution_count": 59,
     "metadata": {},
     "output_type": "execute_result"
    },
    {
     "data": {
      "image/png": "[encoded data removed]",
      "text/plain": [
       "<matplotlib.figure.Figure at 0x10d0a9050>"
      ]
     },
     "metadata": {},
     "output_type": "display_data"
    }
   ],
   "source": [
    "ax=plt.gca()\n",
    "ax.set_axis_bgcolor(color=sns.color_palette(\"Reds_d\")[5])\n",
    "plt.fill_between(np.arange(3),sortedvalues, alpha=0.8, color=sns.color_palette(\"Blues_d\")[5])\n",
    "plt.ylim(0,100)\n",
    "plt.axhline(y=accuracies['Logistic Regression'],linestyle='--',color='blue', label=\"Max Accuracy = 78.84%\")\n",
    "plt.axhline(y=accuracies['Baseline'],linestyle='--',color='black', label=\"Baseline Accuracy = 77.16%\")\n",
    "plt.legend(loc=\"right\")\n",
    "plt.xticks(np.arange(3), ['Baseline','kNN','Logistic Regression'] )\n",
    "plt.title(\"Comparison of Classifiers\")\n",
    "plt.ylabel('Accuracy')\n",
    "plt.xlabel('Classifier')"
   ]
  },
  {
   "cell_type": "markdown",
   "metadata": {
    "collapsed": true
   },
   "source": [
    "Our baseline accuracy is 77.16%. Logistic regression achieved an accuracy of 78.84%. Whereas, kNN achieved a lower accuracy of 77.6%. Therefore, logistic regression is our best classifier albeit with only marginal improvement from the baseline. Nevertheless, 1.68% increase in accuracy translates to 42 more films being correctly classified.\n",
    "\n",
    "One possible flaw might be the lack of strong correlation between locations, genres and reception. In this case, our features do not really help us predict reception. If so, we might have to conclude that our hypothesis is wrong, that locations and genres do not explain reception of movies.\n",
    "\n",
    "Overfitting does not seem to be an issue here as evident from the rather similar accuracy rate of our training and test data."
   ]
  },
  {
   "cell_type": "code",
   "execution_count": null,
   "metadata": {
    "collapsed": true
   },
   "outputs": [],
   "source": []
  }
 ],
 "metadata": {
  "kernelspec": {
   "display_name": "Python 2",
   "language": "python",
   "name": "python2"
  },
  "language_info": {
   "codemirror_mode": {
    "name": "ipython",
    "version": 2
   },
   "file_extension": ".py",
   "mimetype": "text/x-python",
   "name": "python",
   "nbconvert_exporter": "python",
   "pygments_lexer": "ipython2",
   "version": "2.7.10"
  }
 },
 "nbformat": 4,
 "nbformat_minor": 0
}
